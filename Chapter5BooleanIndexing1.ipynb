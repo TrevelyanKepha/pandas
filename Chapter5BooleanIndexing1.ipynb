{
 "cells": [
  {
   "cell_type": "code",
   "execution_count": 3,
   "metadata": {},
   "outputs": [],
   "source": [
    "import pandas as pd"
   ]
  },
  {
   "cell_type": "code",
   "execution_count": 4,
   "metadata": {},
   "outputs": [],
   "source": [
    "import numpy as np"
   ]
  },
  {
   "cell_type": "code",
   "execution_count": 5,
   "metadata": {},
   "outputs": [],
   "source": [
    "import matplotlib.pyplot as plt"
   ]
  },
  {
   "cell_type": "code",
   "execution_count": 6,
   "metadata": {},
   "outputs": [],
   "source": [
    "%matplotlib inline"
   ]
  },
  {
   "cell_type": "markdown",
   "metadata": {},
   "source": [
    "# Boolean Indexing"
   ]
  },
  {
   "cell_type": "markdown",
   "metadata": {},
   "source": [
    "- Filtering data from a dataset is one of the most common and basic operations.\n",
    "- Boolean indexing refers to selecting rows by providing a boolean value (True or False) for each row.\n",
    "- These boolean values are usually stored in a Series or NumPy ndarray and are usually created by applying a boolean condition to one or more columns in a DataFrame.\n",
    "- We begin by creating boolean Series and calculating statistics on them and then move on tocreating more complex conditionals before using boolean indexing in a wide variety of ways to filter data."
   ]
  },
  {
   "cell_type": "markdown",
   "metadata": {},
   "source": [
    "## Calculating boolean statistics"
   ]
  },
  {
   "cell_type": "code",
   "execution_count": 7,
   "metadata": {},
   "outputs": [],
   "source": [
    "#Read in the movie dataset, set the index to the movie title, and inspect the first few rows\n",
    "movie = pd.read_csv('data/movie.csv', index_col='movie_title')"
   ]
  },
  {
   "cell_type": "code",
   "execution_count": 8,
   "metadata": {},
   "outputs": [
    {
     "data": {
      "text/html": [
       "<div>\n",
       "<style scoped>\n",
       "    .dataframe tbody tr th:only-of-type {\n",
       "        vertical-align: middle;\n",
       "    }\n",
       "\n",
       "    .dataframe tbody tr th {\n",
       "        vertical-align: top;\n",
       "    }\n",
       "\n",
       "    .dataframe thead th {\n",
       "        text-align: right;\n",
       "    }\n",
       "</style>\n",
       "<table border=\"1\" class=\"dataframe\">\n",
       "  <thead>\n",
       "    <tr style=\"text-align: right;\">\n",
       "      <th></th>\n",
       "      <th>color</th>\n",
       "      <th>director_name</th>\n",
       "      <th>num_critic_for_reviews</th>\n",
       "      <th>duration</th>\n",
       "      <th>director_facebook_likes</th>\n",
       "      <th>actor_3_facebook_likes</th>\n",
       "      <th>actor_2_name</th>\n",
       "      <th>actor_1_facebook_likes</th>\n",
       "      <th>gross</th>\n",
       "      <th>genres</th>\n",
       "      <th>...</th>\n",
       "      <th>num_user_for_reviews</th>\n",
       "      <th>language</th>\n",
       "      <th>country</th>\n",
       "      <th>content_rating</th>\n",
       "      <th>budget</th>\n",
       "      <th>title_year</th>\n",
       "      <th>actor_2_facebook_likes</th>\n",
       "      <th>imdb_score</th>\n",
       "      <th>aspect_ratio</th>\n",
       "      <th>movie_facebook_likes</th>\n",
       "    </tr>\n",
       "    <tr>\n",
       "      <th>movie_title</th>\n",
       "      <th></th>\n",
       "      <th></th>\n",
       "      <th></th>\n",
       "      <th></th>\n",
       "      <th></th>\n",
       "      <th></th>\n",
       "      <th></th>\n",
       "      <th></th>\n",
       "      <th></th>\n",
       "      <th></th>\n",
       "      <th></th>\n",
       "      <th></th>\n",
       "      <th></th>\n",
       "      <th></th>\n",
       "      <th></th>\n",
       "      <th></th>\n",
       "      <th></th>\n",
       "      <th></th>\n",
       "      <th></th>\n",
       "      <th></th>\n",
       "      <th></th>\n",
       "    </tr>\n",
       "  </thead>\n",
       "  <tbody>\n",
       "    <tr>\n",
       "      <th>Avatar</th>\n",
       "      <td>Color</td>\n",
       "      <td>James Cameron</td>\n",
       "      <td>723.0</td>\n",
       "      <td>178.0</td>\n",
       "      <td>0.0</td>\n",
       "      <td>855.0</td>\n",
       "      <td>Joel David Moore</td>\n",
       "      <td>1000.0</td>\n",
       "      <td>760505847.0</td>\n",
       "      <td>Action|Adventure|Fantasy|Sci-Fi</td>\n",
       "      <td>...</td>\n",
       "      <td>3054.0</td>\n",
       "      <td>English</td>\n",
       "      <td>USA</td>\n",
       "      <td>PG-13</td>\n",
       "      <td>237000000.0</td>\n",
       "      <td>2009.0</td>\n",
       "      <td>936.0</td>\n",
       "      <td>7.9</td>\n",
       "      <td>1.78</td>\n",
       "      <td>33000</td>\n",
       "    </tr>\n",
       "    <tr>\n",
       "      <th>Pirates of the Caribbean: At World's End</th>\n",
       "      <td>Color</td>\n",
       "      <td>Gore Verbinski</td>\n",
       "      <td>302.0</td>\n",
       "      <td>169.0</td>\n",
       "      <td>563.0</td>\n",
       "      <td>1000.0</td>\n",
       "      <td>Orlando Bloom</td>\n",
       "      <td>40000.0</td>\n",
       "      <td>309404152.0</td>\n",
       "      <td>Action|Adventure|Fantasy</td>\n",
       "      <td>...</td>\n",
       "      <td>1238.0</td>\n",
       "      <td>English</td>\n",
       "      <td>USA</td>\n",
       "      <td>PG-13</td>\n",
       "      <td>300000000.0</td>\n",
       "      <td>2007.0</td>\n",
       "      <td>5000.0</td>\n",
       "      <td>7.1</td>\n",
       "      <td>2.35</td>\n",
       "      <td>0</td>\n",
       "    </tr>\n",
       "    <tr>\n",
       "      <th>Spectre</th>\n",
       "      <td>Color</td>\n",
       "      <td>Sam Mendes</td>\n",
       "      <td>602.0</td>\n",
       "      <td>148.0</td>\n",
       "      <td>0.0</td>\n",
       "      <td>161.0</td>\n",
       "      <td>Rory Kinnear</td>\n",
       "      <td>11000.0</td>\n",
       "      <td>200074175.0</td>\n",
       "      <td>Action|Adventure|Thriller</td>\n",
       "      <td>...</td>\n",
       "      <td>994.0</td>\n",
       "      <td>English</td>\n",
       "      <td>UK</td>\n",
       "      <td>PG-13</td>\n",
       "      <td>245000000.0</td>\n",
       "      <td>2015.0</td>\n",
       "      <td>393.0</td>\n",
       "      <td>6.8</td>\n",
       "      <td>2.35</td>\n",
       "      <td>85000</td>\n",
       "    </tr>\n",
       "    <tr>\n",
       "      <th>The Dark Knight Rises</th>\n",
       "      <td>Color</td>\n",
       "      <td>Christopher Nolan</td>\n",
       "      <td>813.0</td>\n",
       "      <td>164.0</td>\n",
       "      <td>22000.0</td>\n",
       "      <td>23000.0</td>\n",
       "      <td>Christian Bale</td>\n",
       "      <td>27000.0</td>\n",
       "      <td>448130642.0</td>\n",
       "      <td>Action|Thriller</td>\n",
       "      <td>...</td>\n",
       "      <td>2701.0</td>\n",
       "      <td>English</td>\n",
       "      <td>USA</td>\n",
       "      <td>PG-13</td>\n",
       "      <td>250000000.0</td>\n",
       "      <td>2012.0</td>\n",
       "      <td>23000.0</td>\n",
       "      <td>8.5</td>\n",
       "      <td>2.35</td>\n",
       "      <td>164000</td>\n",
       "    </tr>\n",
       "    <tr>\n",
       "      <th>Star Wars: Episode VII - The Force Awakens</th>\n",
       "      <td>NaN</td>\n",
       "      <td>Doug Walker</td>\n",
       "      <td>NaN</td>\n",
       "      <td>NaN</td>\n",
       "      <td>131.0</td>\n",
       "      <td>NaN</td>\n",
       "      <td>Rob Walker</td>\n",
       "      <td>131.0</td>\n",
       "      <td>NaN</td>\n",
       "      <td>Documentary</td>\n",
       "      <td>...</td>\n",
       "      <td>NaN</td>\n",
       "      <td>NaN</td>\n",
       "      <td>NaN</td>\n",
       "      <td>NaN</td>\n",
       "      <td>NaN</td>\n",
       "      <td>NaN</td>\n",
       "      <td>12.0</td>\n",
       "      <td>7.1</td>\n",
       "      <td>NaN</td>\n",
       "      <td>0</td>\n",
       "    </tr>\n",
       "  </tbody>\n",
       "</table>\n",
       "<p>5 rows × 27 columns</p>\n",
       "</div>"
      ],
      "text/plain": [
       "                                            color      director_name  \\\n",
       "movie_title                                                            \n",
       "Avatar                                      Color      James Cameron   \n",
       "Pirates of the Caribbean: At World's End    Color     Gore Verbinski   \n",
       "Spectre                                     Color         Sam Mendes   \n",
       "The Dark Knight Rises                       Color  Christopher Nolan   \n",
       "Star Wars: Episode VII - The Force Awakens    NaN        Doug Walker   \n",
       "\n",
       "                                            num_critic_for_reviews  duration  \\\n",
       "movie_title                                                                    \n",
       "Avatar                                                       723.0     178.0   \n",
       "Pirates of the Caribbean: At World's End                     302.0     169.0   \n",
       "Spectre                                                      602.0     148.0   \n",
       "The Dark Knight Rises                                        813.0     164.0   \n",
       "Star Wars: Episode VII - The Force Awakens                     NaN       NaN   \n",
       "\n",
       "                                            director_facebook_likes  \\\n",
       "movie_title                                                           \n",
       "Avatar                                                          0.0   \n",
       "Pirates of the Caribbean: At World's End                      563.0   \n",
       "Spectre                                                         0.0   \n",
       "The Dark Knight Rises                                       22000.0   \n",
       "Star Wars: Episode VII - The Force Awakens                    131.0   \n",
       "\n",
       "                                            actor_3_facebook_likes  \\\n",
       "movie_title                                                          \n",
       "Avatar                                                       855.0   \n",
       "Pirates of the Caribbean: At World's End                    1000.0   \n",
       "Spectre                                                      161.0   \n",
       "The Dark Knight Rises                                      23000.0   \n",
       "Star Wars: Episode VII - The Force Awakens                     NaN   \n",
       "\n",
       "                                                actor_2_name  \\\n",
       "movie_title                                                    \n",
       "Avatar                                      Joel David Moore   \n",
       "Pirates of the Caribbean: At World's End       Orlando Bloom   \n",
       "Spectre                                         Rory Kinnear   \n",
       "The Dark Knight Rises                         Christian Bale   \n",
       "Star Wars: Episode VII - The Force Awakens        Rob Walker   \n",
       "\n",
       "                                            actor_1_facebook_likes  \\\n",
       "movie_title                                                          \n",
       "Avatar                                                      1000.0   \n",
       "Pirates of the Caribbean: At World's End                   40000.0   \n",
       "Spectre                                                    11000.0   \n",
       "The Dark Knight Rises                                      27000.0   \n",
       "Star Wars: Episode VII - The Force Awakens                   131.0   \n",
       "\n",
       "                                                  gross  \\\n",
       "movie_title                                               \n",
       "Avatar                                      760505847.0   \n",
       "Pirates of the Caribbean: At World's End    309404152.0   \n",
       "Spectre                                     200074175.0   \n",
       "The Dark Knight Rises                       448130642.0   \n",
       "Star Wars: Episode VII - The Force Awakens          NaN   \n",
       "\n",
       "                                                                     genres  \\\n",
       "movie_title                                                                   \n",
       "Avatar                                      Action|Adventure|Fantasy|Sci-Fi   \n",
       "Pirates of the Caribbean: At World's End           Action|Adventure|Fantasy   \n",
       "Spectre                                           Action|Adventure|Thriller   \n",
       "The Dark Knight Rises                                       Action|Thriller   \n",
       "Star Wars: Episode VII - The Force Awakens                      Documentary   \n",
       "\n",
       "                                                   ...           \\\n",
       "movie_title                                        ...            \n",
       "Avatar                                             ...            \n",
       "Pirates of the Caribbean: At World's End           ...            \n",
       "Spectre                                            ...            \n",
       "The Dark Knight Rises                              ...            \n",
       "Star Wars: Episode VII - The Force Awakens         ...            \n",
       "\n",
       "                                           num_user_for_reviews  language  \\\n",
       "movie_title                                                                 \n",
       "Avatar                                                   3054.0   English   \n",
       "Pirates of the Caribbean: At World's End                 1238.0   English   \n",
       "Spectre                                                   994.0   English   \n",
       "The Dark Knight Rises                                    2701.0   English   \n",
       "Star Wars: Episode VII - The Force Awakens                  NaN       NaN   \n",
       "\n",
       "                                            country content_rating  \\\n",
       "movie_title                                                          \n",
       "Avatar                                          USA          PG-13   \n",
       "Pirates of the Caribbean: At World's End        USA          PG-13   \n",
       "Spectre                                          UK          PG-13   \n",
       "The Dark Knight Rises                           USA          PG-13   \n",
       "Star Wars: Episode VII - The Force Awakens      NaN            NaN   \n",
       "\n",
       "                                                 budget title_year  \\\n",
       "movie_title                                                          \n",
       "Avatar                                      237000000.0     2009.0   \n",
       "Pirates of the Caribbean: At World's End    300000000.0     2007.0   \n",
       "Spectre                                     245000000.0     2015.0   \n",
       "The Dark Knight Rises                       250000000.0     2012.0   \n",
       "Star Wars: Episode VII - The Force Awakens          NaN        NaN   \n",
       "\n",
       "                                           actor_2_facebook_likes  imdb_score  \\\n",
       "movie_title                                                                     \n",
       "Avatar                                                      936.0         7.9   \n",
       "Pirates of the Caribbean: At World's End                   5000.0         7.1   \n",
       "Spectre                                                     393.0         6.8   \n",
       "The Dark Knight Rises                                     23000.0         8.5   \n",
       "Star Wars: Episode VII - The Force Awakens                   12.0         7.1   \n",
       "\n",
       "                                           aspect_ratio movie_facebook_likes  \n",
       "movie_title                                                                   \n",
       "Avatar                                             1.78                33000  \n",
       "Pirates of the Caribbean: At World's End           2.35                    0  \n",
       "Spectre                                            2.35                85000  \n",
       "The Dark Knight Rises                              2.35               164000  \n",
       "Star Wars: Episode VII - The Force Awakens          NaN                    0  \n",
       "\n",
       "[5 rows x 27 columns]"
      ]
     },
     "execution_count": 8,
     "metadata": {},
     "output_type": "execute_result"
    }
   ],
   "source": [
    "movie.head()"
   ]
  },
  {
   "cell_type": "code",
   "execution_count": 9,
   "metadata": {},
   "outputs": [],
   "source": [
    "# Determine whether the duration of each movie is longer than two hours by using the greater than comparison operator with the duration Series\n",
    "movie_2_hours = movie['duration'] > 120"
   ]
  },
  {
   "cell_type": "code",
   "execution_count": 10,
   "metadata": {},
   "outputs": [
    {
     "data": {
      "text/plain": [
       "movie_title\n",
       "Avatar                                         True\n",
       "Pirates of the Caribbean: At World's End       True\n",
       "Spectre                                        True\n",
       "The Dark Knight Rises                          True\n",
       "Star Wars: Episode VII - The Force Awakens    False\n",
       "John Carter                                    True\n",
       "Spider-Man 3                                   True\n",
       "Tangled                                       False\n",
       "Avengers: Age of Ultron                        True\n",
       "Harry Potter and the Half-Blood Prince         True\n",
       "Name: duration, dtype: bool"
      ]
     },
     "execution_count": 10,
     "metadata": {},
     "output_type": "execute_result"
    }
   ],
   "source": [
    "movie_2_hours.head(10)"
   ]
  },
  {
   "cell_type": "code",
   "execution_count": 11,
   "metadata": {},
   "outputs": [
    {
     "data": {
      "text/plain": [
       "1039"
      ]
     },
     "execution_count": 11,
     "metadata": {},
     "output_type": "execute_result"
    }
   ],
   "source": [
    "# We can now use this Series to determine the number of movies that are longer than two hours\n",
    "movie_2_hours.sum()"
   ]
  },
  {
   "cell_type": "code",
   "execution_count": 12,
   "metadata": {},
   "outputs": [
    {
     "data": {
      "text/plain": [
       "0.2113506916192026"
      ]
     },
     "execution_count": 12,
     "metadata": {},
     "output_type": "execute_result"
    }
   ],
   "source": [
    "# To find the percentage of movies in the dataset longer than two hours, use the mean method\n",
    "movie_2_hours.mean()\n",
    "# the the output is misleading"
   ]
  },
  {
   "cell_type": "code",
   "execution_count": 13,
   "metadata": {},
   "outputs": [
    {
     "data": {
      "text/plain": [
       "0.21199755152009794"
      ]
     },
     "execution_count": 13,
     "metadata": {},
     "output_type": "execute_result"
    }
   ],
   "source": [
    "# the output from step 4 is misleading look in the book\n",
    "movie['duration'].dropna().gt(120).mean()"
   ]
  },
  {
   "cell_type": "code",
   "execution_count": 14,
   "metadata": {},
   "outputs": [
    {
     "data": {
      "text/plain": [
       "count      4916\n",
       "unique        2\n",
       "top       False\n",
       "freq       3877\n",
       "Name: duration, dtype: object"
      ]
     },
     "execution_count": 14,
     "metadata": {},
     "output_type": "execute_result"
    }
   ],
   "source": [
    "# Use the describe method to output a few summary statistics on the boolean Series\n",
    "movie_2_hours.describe()"
   ]
  },
  {
   "cell_type": "markdown",
   "metadata": {},
   "source": [
    "## Constructing multiple boolean conditions"
   ]
  },
  {
   "cell_type": "code",
   "execution_count": 15,
   "metadata": {},
   "outputs": [],
   "source": [
    "# Load in the movie dataset and set the index as the title\n",
    "movie = pd.read_csv('data/movie.csv', index_col='movie_title')"
   ]
  },
  {
   "cell_type": "code",
   "execution_count": 16,
   "metadata": {},
   "outputs": [],
   "source": [
    "# Create a variable to hold each set of criteria independently as a boolean Series\n",
    "criteria1 = movie.imdb_score > 8"
   ]
  },
  {
   "cell_type": "code",
   "execution_count": 22,
   "metadata": {},
   "outputs": [],
   "source": [
    "criteria2 = movie.content_rating == 'PG-13'"
   ]
  },
  {
   "cell_type": "code",
   "execution_count": 18,
   "metadata": {},
   "outputs": [],
   "source": [
    "criteria3 = ((movie.title_year < 2000) |\n",
    " (movie.title_year > 2009))"
   ]
  },
  {
   "cell_type": "code",
   "execution_count": 19,
   "metadata": {},
   "outputs": [
    {
     "data": {
      "text/plain": [
       "movie_title\n",
       "Avatar                                         True\n",
       "Pirates of the Caribbean: At World's End       True\n",
       "Spectre                                        True\n",
       "The Dark Knight Rises                          True\n",
       "Star Wars: Episode VII - The Force Awakens    False\n",
       "Name: content_rating, dtype: bool"
      ]
     },
     "execution_count": 19,
     "metadata": {},
     "output_type": "execute_result"
    }
   ],
   "source": [
    "criteria2.head()"
   ]
  },
  {
   "cell_type": "code",
   "execution_count": 20,
   "metadata": {},
   "outputs": [],
   "source": [
    "# Combine all the criteria together into a single boolean Series\n",
    "criteria_final = criteria1 & criteria2 & criteria3"
   ]
  },
  {
   "cell_type": "code",
   "execution_count": 21,
   "metadata": {},
   "outputs": [
    {
     "data": {
      "text/plain": [
       "movie_title\n",
       "Avatar                                        False\n",
       "Pirates of the Caribbean: At World's End      False\n",
       "Spectre                                       False\n",
       "The Dark Knight Rises                          True\n",
       "Star Wars: Episode VII - The Force Awakens    False\n",
       "dtype: bool"
      ]
     },
     "execution_count": 21,
     "metadata": {},
     "output_type": "execute_result"
    }
   ],
   "source": [
    "criteria_final.head()"
   ]
  },
  {
   "cell_type": "markdown",
   "metadata": {},
   "source": [
    "## Filtering with boolean indexing"
   ]
  },
  {
   "cell_type": "code",
   "execution_count": 23,
   "metadata": {},
   "outputs": [],
   "source": [
    "# Read in the movie dataset, set the index to the movie_title, and create the first set of criteria\n",
    "movie = pd.read_csv('data/movie.csv', index_col='movie_title')"
   ]
  },
  {
   "cell_type": "code",
   "execution_count": 24,
   "metadata": {},
   "outputs": [],
   "source": [
    "crit_a1 = movie.imdb_score > 8"
   ]
  },
  {
   "cell_type": "code",
   "execution_count": 25,
   "metadata": {},
   "outputs": [],
   "source": [
    "crit_a2 = movie.content_rating == 'PG-13'"
   ]
  },
  {
   "cell_type": "code",
   "execution_count": 26,
   "metadata": {},
   "outputs": [],
   "source": [
    "crit_a3 = (movie.title_year < 2000) | (movie.title_year > 2009)"
   ]
  },
  {
   "cell_type": "code",
   "execution_count": 27,
   "metadata": {},
   "outputs": [],
   "source": [
    "final_crit_a = crit_a1 & crit_a2 & crit_a3"
   ]
  },
  {
   "cell_type": "code",
   "execution_count": 28,
   "metadata": {},
   "outputs": [],
   "source": [
    "# Create criteria for the second set of movies\n",
    "crit_b1 = movie.imdb_score < 5"
   ]
  },
  {
   "cell_type": "code",
   "execution_count": 29,
   "metadata": {},
   "outputs": [],
   "source": [
    "crit_b2 = movie.content_rating == 'R'"
   ]
  },
  {
   "cell_type": "code",
   "execution_count": 30,
   "metadata": {},
   "outputs": [],
   "source": [
    "crit_b3 = ((movie.title_year >= 2000) & (movie.title_year <= 2010))"
   ]
  },
  {
   "cell_type": "code",
   "execution_count": 31,
   "metadata": {},
   "outputs": [],
   "source": [
    "final_crit_b = crit_b1 & crit_b2 & crit_b3"
   ]
  },
  {
   "cell_type": "code",
   "execution_count": 32,
   "metadata": {},
   "outputs": [],
   "source": [
    "# Combine the two sets of criteria using the pandas or operator.\n",
    "# This yields a boolean Series of all movies that are members of either set\n",
    "final_crit_all = final_crit_a | final_crit_b"
   ]
  },
  {
   "cell_type": "code",
   "execution_count": 33,
   "metadata": {},
   "outputs": [
    {
     "data": {
      "text/plain": [
       "movie_title\n",
       "Avatar                                        False\n",
       "Pirates of the Caribbean: At World's End      False\n",
       "Spectre                                       False\n",
       "The Dark Knight Rises                          True\n",
       "Star Wars: Episode VII - The Force Awakens    False\n",
       "dtype: bool"
      ]
     },
     "execution_count": 33,
     "metadata": {},
     "output_type": "execute_result"
    }
   ],
   "source": [
    "final_crit_all.head()"
   ]
  },
  {
   "cell_type": "code",
   "execution_count": 34,
   "metadata": {},
   "outputs": [
    {
     "data": {
      "text/html": [
       "<div>\n",
       "<style scoped>\n",
       "    .dataframe tbody tr th:only-of-type {\n",
       "        vertical-align: middle;\n",
       "    }\n",
       "\n",
       "    .dataframe tbody tr th {\n",
       "        vertical-align: top;\n",
       "    }\n",
       "\n",
       "    .dataframe thead th {\n",
       "        text-align: right;\n",
       "    }\n",
       "</style>\n",
       "<table border=\"1\" class=\"dataframe\">\n",
       "  <thead>\n",
       "    <tr style=\"text-align: right;\">\n",
       "      <th></th>\n",
       "      <th>color</th>\n",
       "      <th>director_name</th>\n",
       "      <th>num_critic_for_reviews</th>\n",
       "      <th>duration</th>\n",
       "      <th>director_facebook_likes</th>\n",
       "      <th>actor_3_facebook_likes</th>\n",
       "      <th>actor_2_name</th>\n",
       "      <th>actor_1_facebook_likes</th>\n",
       "      <th>gross</th>\n",
       "      <th>genres</th>\n",
       "      <th>...</th>\n",
       "      <th>num_user_for_reviews</th>\n",
       "      <th>language</th>\n",
       "      <th>country</th>\n",
       "      <th>content_rating</th>\n",
       "      <th>budget</th>\n",
       "      <th>title_year</th>\n",
       "      <th>actor_2_facebook_likes</th>\n",
       "      <th>imdb_score</th>\n",
       "      <th>aspect_ratio</th>\n",
       "      <th>movie_facebook_likes</th>\n",
       "    </tr>\n",
       "    <tr>\n",
       "      <th>movie_title</th>\n",
       "      <th></th>\n",
       "      <th></th>\n",
       "      <th></th>\n",
       "      <th></th>\n",
       "      <th></th>\n",
       "      <th></th>\n",
       "      <th></th>\n",
       "      <th></th>\n",
       "      <th></th>\n",
       "      <th></th>\n",
       "      <th></th>\n",
       "      <th></th>\n",
       "      <th></th>\n",
       "      <th></th>\n",
       "      <th></th>\n",
       "      <th></th>\n",
       "      <th></th>\n",
       "      <th></th>\n",
       "      <th></th>\n",
       "      <th></th>\n",
       "      <th></th>\n",
       "    </tr>\n",
       "  </thead>\n",
       "  <tbody>\n",
       "    <tr>\n",
       "      <th>The Dark Knight Rises</th>\n",
       "      <td>Color</td>\n",
       "      <td>Christopher Nolan</td>\n",
       "      <td>813.0</td>\n",
       "      <td>164.0</td>\n",
       "      <td>22000.0</td>\n",
       "      <td>23000.0</td>\n",
       "      <td>Christian Bale</td>\n",
       "      <td>27000.0</td>\n",
       "      <td>448130642.0</td>\n",
       "      <td>Action|Thriller</td>\n",
       "      <td>...</td>\n",
       "      <td>2701.0</td>\n",
       "      <td>English</td>\n",
       "      <td>USA</td>\n",
       "      <td>PG-13</td>\n",
       "      <td>250000000.0</td>\n",
       "      <td>2012.0</td>\n",
       "      <td>23000.0</td>\n",
       "      <td>8.5</td>\n",
       "      <td>2.35</td>\n",
       "      <td>164000</td>\n",
       "    </tr>\n",
       "    <tr>\n",
       "      <th>The Avengers</th>\n",
       "      <td>Color</td>\n",
       "      <td>Joss Whedon</td>\n",
       "      <td>703.0</td>\n",
       "      <td>173.0</td>\n",
       "      <td>0.0</td>\n",
       "      <td>19000.0</td>\n",
       "      <td>Robert Downey Jr.</td>\n",
       "      <td>26000.0</td>\n",
       "      <td>623279547.0</td>\n",
       "      <td>Action|Adventure|Sci-Fi</td>\n",
       "      <td>...</td>\n",
       "      <td>1722.0</td>\n",
       "      <td>English</td>\n",
       "      <td>USA</td>\n",
       "      <td>PG-13</td>\n",
       "      <td>220000000.0</td>\n",
       "      <td>2012.0</td>\n",
       "      <td>21000.0</td>\n",
       "      <td>8.1</td>\n",
       "      <td>1.85</td>\n",
       "      <td>123000</td>\n",
       "    </tr>\n",
       "    <tr>\n",
       "      <th>Captain America: Civil War</th>\n",
       "      <td>Color</td>\n",
       "      <td>Anthony Russo</td>\n",
       "      <td>516.0</td>\n",
       "      <td>147.0</td>\n",
       "      <td>94.0</td>\n",
       "      <td>11000.0</td>\n",
       "      <td>Scarlett Johansson</td>\n",
       "      <td>21000.0</td>\n",
       "      <td>407197282.0</td>\n",
       "      <td>Action|Adventure|Sci-Fi</td>\n",
       "      <td>...</td>\n",
       "      <td>1022.0</td>\n",
       "      <td>English</td>\n",
       "      <td>USA</td>\n",
       "      <td>PG-13</td>\n",
       "      <td>250000000.0</td>\n",
       "      <td>2016.0</td>\n",
       "      <td>19000.0</td>\n",
       "      <td>8.2</td>\n",
       "      <td>2.35</td>\n",
       "      <td>72000</td>\n",
       "    </tr>\n",
       "    <tr>\n",
       "      <th>Guardians of the Galaxy</th>\n",
       "      <td>Color</td>\n",
       "      <td>James Gunn</td>\n",
       "      <td>653.0</td>\n",
       "      <td>121.0</td>\n",
       "      <td>571.0</td>\n",
       "      <td>3000.0</td>\n",
       "      <td>Vin Diesel</td>\n",
       "      <td>14000.0</td>\n",
       "      <td>333130696.0</td>\n",
       "      <td>Action|Adventure|Sci-Fi</td>\n",
       "      <td>...</td>\n",
       "      <td>1097.0</td>\n",
       "      <td>English</td>\n",
       "      <td>USA</td>\n",
       "      <td>PG-13</td>\n",
       "      <td>170000000.0</td>\n",
       "      <td>2014.0</td>\n",
       "      <td>14000.0</td>\n",
       "      <td>8.1</td>\n",
       "      <td>2.35</td>\n",
       "      <td>96000</td>\n",
       "    </tr>\n",
       "    <tr>\n",
       "      <th>Interstellar</th>\n",
       "      <td>Color</td>\n",
       "      <td>Christopher Nolan</td>\n",
       "      <td>712.0</td>\n",
       "      <td>169.0</td>\n",
       "      <td>22000.0</td>\n",
       "      <td>6000.0</td>\n",
       "      <td>Anne Hathaway</td>\n",
       "      <td>11000.0</td>\n",
       "      <td>187991439.0</td>\n",
       "      <td>Adventure|Drama|Sci-Fi</td>\n",
       "      <td>...</td>\n",
       "      <td>2725.0</td>\n",
       "      <td>English</td>\n",
       "      <td>USA</td>\n",
       "      <td>PG-13</td>\n",
       "      <td>165000000.0</td>\n",
       "      <td>2014.0</td>\n",
       "      <td>11000.0</td>\n",
       "      <td>8.6</td>\n",
       "      <td>2.35</td>\n",
       "      <td>349000</td>\n",
       "    </tr>\n",
       "  </tbody>\n",
       "</table>\n",
       "<p>5 rows × 27 columns</p>\n",
       "</div>"
      ],
      "text/plain": [
       "                            color      director_name  num_critic_for_reviews  \\\n",
       "movie_title                                                                    \n",
       "The Dark Knight Rises       Color  Christopher Nolan                   813.0   \n",
       "The Avengers                Color        Joss Whedon                   703.0   \n",
       "Captain America: Civil War  Color      Anthony Russo                   516.0   \n",
       "Guardians of the Galaxy     Color         James Gunn                   653.0   \n",
       "Interstellar                Color  Christopher Nolan                   712.0   \n",
       "\n",
       "                            duration  director_facebook_likes  \\\n",
       "movie_title                                                     \n",
       "The Dark Knight Rises          164.0                  22000.0   \n",
       "The Avengers                   173.0                      0.0   \n",
       "Captain America: Civil War     147.0                     94.0   \n",
       "Guardians of the Galaxy        121.0                    571.0   \n",
       "Interstellar                   169.0                  22000.0   \n",
       "\n",
       "                            actor_3_facebook_likes        actor_2_name  \\\n",
       "movie_title                                                              \n",
       "The Dark Knight Rises                      23000.0      Christian Bale   \n",
       "The Avengers                               19000.0   Robert Downey Jr.   \n",
       "Captain America: Civil War                 11000.0  Scarlett Johansson   \n",
       "Guardians of the Galaxy                     3000.0          Vin Diesel   \n",
       "Interstellar                                6000.0       Anne Hathaway   \n",
       "\n",
       "                            actor_1_facebook_likes        gross  \\\n",
       "movie_title                                                       \n",
       "The Dark Knight Rises                      27000.0  448130642.0   \n",
       "The Avengers                               26000.0  623279547.0   \n",
       "Captain America: Civil War                 21000.0  407197282.0   \n",
       "Guardians of the Galaxy                    14000.0  333130696.0   \n",
       "Interstellar                               11000.0  187991439.0   \n",
       "\n",
       "                                             genres         ...           \\\n",
       "movie_title                                                 ...            \n",
       "The Dark Knight Rises               Action|Thriller         ...            \n",
       "The Avengers                Action|Adventure|Sci-Fi         ...            \n",
       "Captain America: Civil War  Action|Adventure|Sci-Fi         ...            \n",
       "Guardians of the Galaxy     Action|Adventure|Sci-Fi         ...            \n",
       "Interstellar                 Adventure|Drama|Sci-Fi         ...            \n",
       "\n",
       "                           num_user_for_reviews  language  country  \\\n",
       "movie_title                                                          \n",
       "The Dark Knight Rises                    2701.0   English      USA   \n",
       "The Avengers                             1722.0   English      USA   \n",
       "Captain America: Civil War               1022.0   English      USA   \n",
       "Guardians of the Galaxy                  1097.0   English      USA   \n",
       "Interstellar                             2725.0   English      USA   \n",
       "\n",
       "                           content_rating       budget title_year  \\\n",
       "movie_title                                                         \n",
       "The Dark Knight Rises               PG-13  250000000.0     2012.0   \n",
       "The Avengers                        PG-13  220000000.0     2012.0   \n",
       "Captain America: Civil War          PG-13  250000000.0     2016.0   \n",
       "Guardians of the Galaxy             PG-13  170000000.0     2014.0   \n",
       "Interstellar                        PG-13  165000000.0     2014.0   \n",
       "\n",
       "                           actor_2_facebook_likes  imdb_score aspect_ratio  \\\n",
       "movie_title                                                                  \n",
       "The Dark Knight Rises                     23000.0         8.5         2.35   \n",
       "The Avengers                              21000.0         8.1         1.85   \n",
       "Captain America: Civil War                19000.0         8.2         2.35   \n",
       "Guardians of the Galaxy                   14000.0         8.1         2.35   \n",
       "Interstellar                              11000.0         8.6         2.35   \n",
       "\n",
       "                           movie_facebook_likes  \n",
       "movie_title                                      \n",
       "The Dark Knight Rises                    164000  \n",
       "The Avengers                             123000  \n",
       "Captain America: Civil War                72000  \n",
       "Guardians of the Galaxy                   96000  \n",
       "Interstellar                             349000  \n",
       "\n",
       "[5 rows x 27 columns]"
      ]
     },
     "execution_count": 34,
     "metadata": {},
     "output_type": "execute_result"
    }
   ],
   "source": [
    "# pass boolean Series to the indexing operator to filter the data\n",
    "movie[final_crit_all].head()"
   ]
  },
  {
   "cell_type": "code",
   "execution_count": 35,
   "metadata": {},
   "outputs": [],
   "source": [
    "# Let's filter both rows and columns with the .loc indexer\n",
    "cols = ['imdb_score', 'content_rating', 'title_year']"
   ]
  },
  {
   "cell_type": "code",
   "execution_count": 36,
   "metadata": {},
   "outputs": [],
   "source": [
    "movie_filtered = movie.loc[final_crit_all, cols]"
   ]
  },
  {
   "cell_type": "code",
   "execution_count": 37,
   "metadata": {},
   "outputs": [
    {
     "data": {
      "text/html": [
       "<div>\n",
       "<style scoped>\n",
       "    .dataframe tbody tr th:only-of-type {\n",
       "        vertical-align: middle;\n",
       "    }\n",
       "\n",
       "    .dataframe tbody tr th {\n",
       "        vertical-align: top;\n",
       "    }\n",
       "\n",
       "    .dataframe thead th {\n",
       "        text-align: right;\n",
       "    }\n",
       "</style>\n",
       "<table border=\"1\" class=\"dataframe\">\n",
       "  <thead>\n",
       "    <tr style=\"text-align: right;\">\n",
       "      <th></th>\n",
       "      <th>imdb_score</th>\n",
       "      <th>content_rating</th>\n",
       "      <th>title_year</th>\n",
       "    </tr>\n",
       "    <tr>\n",
       "      <th>movie_title</th>\n",
       "      <th></th>\n",
       "      <th></th>\n",
       "      <th></th>\n",
       "    </tr>\n",
       "  </thead>\n",
       "  <tbody>\n",
       "    <tr>\n",
       "      <th>The Dark Knight Rises</th>\n",
       "      <td>8.5</td>\n",
       "      <td>PG-13</td>\n",
       "      <td>2012.0</td>\n",
       "    </tr>\n",
       "    <tr>\n",
       "      <th>The Avengers</th>\n",
       "      <td>8.1</td>\n",
       "      <td>PG-13</td>\n",
       "      <td>2012.0</td>\n",
       "    </tr>\n",
       "    <tr>\n",
       "      <th>Captain America: Civil War</th>\n",
       "      <td>8.2</td>\n",
       "      <td>PG-13</td>\n",
       "      <td>2016.0</td>\n",
       "    </tr>\n",
       "    <tr>\n",
       "      <th>Guardians of the Galaxy</th>\n",
       "      <td>8.1</td>\n",
       "      <td>PG-13</td>\n",
       "      <td>2014.0</td>\n",
       "    </tr>\n",
       "    <tr>\n",
       "      <th>Interstellar</th>\n",
       "      <td>8.6</td>\n",
       "      <td>PG-13</td>\n",
       "      <td>2014.0</td>\n",
       "    </tr>\n",
       "    <tr>\n",
       "      <th>Inception</th>\n",
       "      <td>8.8</td>\n",
       "      <td>PG-13</td>\n",
       "      <td>2010.0</td>\n",
       "    </tr>\n",
       "    <tr>\n",
       "      <th>The Martian</th>\n",
       "      <td>8.1</td>\n",
       "      <td>PG-13</td>\n",
       "      <td>2015.0</td>\n",
       "    </tr>\n",
       "    <tr>\n",
       "      <th>Town &amp; Country</th>\n",
       "      <td>4.4</td>\n",
       "      <td>R</td>\n",
       "      <td>2001.0</td>\n",
       "    </tr>\n",
       "    <tr>\n",
       "      <th>Sex and the City 2</th>\n",
       "      <td>4.3</td>\n",
       "      <td>R</td>\n",
       "      <td>2010.0</td>\n",
       "    </tr>\n",
       "    <tr>\n",
       "      <th>Rollerball</th>\n",
       "      <td>3.0</td>\n",
       "      <td>R</td>\n",
       "      <td>2002.0</td>\n",
       "    </tr>\n",
       "  </tbody>\n",
       "</table>\n",
       "</div>"
      ],
      "text/plain": [
       "                            imdb_score content_rating  title_year\n",
       "movie_title                                                      \n",
       "The Dark Knight Rises              8.5          PG-13      2012.0\n",
       "The Avengers                       8.1          PG-13      2012.0\n",
       "Captain America: Civil War         8.2          PG-13      2016.0\n",
       "Guardians of the Galaxy            8.1          PG-13      2014.0\n",
       "Interstellar                       8.6          PG-13      2014.0\n",
       "Inception                          8.8          PG-13      2010.0\n",
       "The Martian                        8.1          PG-13      2015.0\n",
       "Town & Country                     4.4              R      2001.0\n",
       "Sex and the City 2                 4.3              R      2010.0\n",
       "Rollerball                         3.0              R      2002.0"
      ]
     },
     "execution_count": 37,
     "metadata": {},
     "output_type": "execute_result"
    }
   ],
   "source": [
    "movie_filtered.head(10)"
   ]
  },
  {
   "cell_type": "markdown",
   "metadata": {},
   "source": [
    "## Replicating boolean indexing with index selection"
   ]
  },
  {
   "cell_type": "code",
   "execution_count": 38,
   "metadata": {},
   "outputs": [],
   "source": [
    "# Read in the college dataset and use boolean indexing to select all institutions from the state of Texas (TX)\n",
    "college = pd.read_csv('data/college.csv')"
   ]
  },
  {
   "cell_type": "code",
   "execution_count": 39,
   "metadata": {},
   "outputs": [
    {
     "data": {
      "text/html": [
       "<div>\n",
       "<style scoped>\n",
       "    .dataframe tbody tr th:only-of-type {\n",
       "        vertical-align: middle;\n",
       "    }\n",
       "\n",
       "    .dataframe tbody tr th {\n",
       "        vertical-align: top;\n",
       "    }\n",
       "\n",
       "    .dataframe thead th {\n",
       "        text-align: right;\n",
       "    }\n",
       "</style>\n",
       "<table border=\"1\" class=\"dataframe\">\n",
       "  <thead>\n",
       "    <tr style=\"text-align: right;\">\n",
       "      <th></th>\n",
       "      <th>INSTNM</th>\n",
       "      <th>CITY</th>\n",
       "      <th>STABBR</th>\n",
       "      <th>HBCU</th>\n",
       "      <th>MENONLY</th>\n",
       "      <th>WOMENONLY</th>\n",
       "      <th>RELAFFIL</th>\n",
       "      <th>SATVRMID</th>\n",
       "      <th>SATMTMID</th>\n",
       "      <th>DISTANCEONLY</th>\n",
       "      <th>...</th>\n",
       "      <th>UGDS_2MOR</th>\n",
       "      <th>UGDS_NRA</th>\n",
       "      <th>UGDS_UNKN</th>\n",
       "      <th>PPTUG_EF</th>\n",
       "      <th>CURROPER</th>\n",
       "      <th>PCTPELL</th>\n",
       "      <th>PCTFLOAN</th>\n",
       "      <th>UG25ABV</th>\n",
       "      <th>MD_EARN_WNE_P10</th>\n",
       "      <th>GRAD_DEBT_MDN_SUPP</th>\n",
       "    </tr>\n",
       "  </thead>\n",
       "  <tbody>\n",
       "    <tr>\n",
       "      <th>3610</th>\n",
       "      <td>Abilene Christian University</td>\n",
       "      <td>Abilene</td>\n",
       "      <td>TX</td>\n",
       "      <td>0.0</td>\n",
       "      <td>0.0</td>\n",
       "      <td>0.0</td>\n",
       "      <td>1</td>\n",
       "      <td>530.0</td>\n",
       "      <td>545.0</td>\n",
       "      <td>0.0</td>\n",
       "      <td>...</td>\n",
       "      <td>0.0454</td>\n",
       "      <td>0.0423</td>\n",
       "      <td>0.0045</td>\n",
       "      <td>0.0468</td>\n",
       "      <td>1</td>\n",
       "      <td>0.2595</td>\n",
       "      <td>0.5527</td>\n",
       "      <td>0.0381</td>\n",
       "      <td>40200</td>\n",
       "      <td>25985</td>\n",
       "    </tr>\n",
       "    <tr>\n",
       "      <th>3611</th>\n",
       "      <td>Alvin Community College</td>\n",
       "      <td>Alvin</td>\n",
       "      <td>TX</td>\n",
       "      <td>0.0</td>\n",
       "      <td>0.0</td>\n",
       "      <td>0.0</td>\n",
       "      <td>0</td>\n",
       "      <td>NaN</td>\n",
       "      <td>NaN</td>\n",
       "      <td>0.0</td>\n",
       "      <td>...</td>\n",
       "      <td>0.0002</td>\n",
       "      <td>0.0000</td>\n",
       "      <td>0.0143</td>\n",
       "      <td>0.7123</td>\n",
       "      <td>1</td>\n",
       "      <td>0.1549</td>\n",
       "      <td>0.0625</td>\n",
       "      <td>0.2841</td>\n",
       "      <td>34500</td>\n",
       "      <td>6750</td>\n",
       "    </tr>\n",
       "    <tr>\n",
       "      <th>3612</th>\n",
       "      <td>Amarillo College</td>\n",
       "      <td>Amarillo</td>\n",
       "      <td>TX</td>\n",
       "      <td>0.0</td>\n",
       "      <td>0.0</td>\n",
       "      <td>0.0</td>\n",
       "      <td>0</td>\n",
       "      <td>NaN</td>\n",
       "      <td>NaN</td>\n",
       "      <td>0.0</td>\n",
       "      <td>...</td>\n",
       "      <td>0.0000</td>\n",
       "      <td>0.0001</td>\n",
       "      <td>0.0085</td>\n",
       "      <td>0.6922</td>\n",
       "      <td>1</td>\n",
       "      <td>0.3786</td>\n",
       "      <td>0.1573</td>\n",
       "      <td>0.3431</td>\n",
       "      <td>31700</td>\n",
       "      <td>10950</td>\n",
       "    </tr>\n",
       "    <tr>\n",
       "      <th>3613</th>\n",
       "      <td>Angelina College</td>\n",
       "      <td>Lufkin</td>\n",
       "      <td>TX</td>\n",
       "      <td>0.0</td>\n",
       "      <td>0.0</td>\n",
       "      <td>0.0</td>\n",
       "      <td>0</td>\n",
       "      <td>NaN</td>\n",
       "      <td>NaN</td>\n",
       "      <td>0.0</td>\n",
       "      <td>...</td>\n",
       "      <td>0.0264</td>\n",
       "      <td>0.0005</td>\n",
       "      <td>0.0000</td>\n",
       "      <td>0.5600</td>\n",
       "      <td>1</td>\n",
       "      <td>0.5308</td>\n",
       "      <td>0.0000</td>\n",
       "      <td>0.2603</td>\n",
       "      <td>26900</td>\n",
       "      <td>PrivacySuppressed</td>\n",
       "    </tr>\n",
       "    <tr>\n",
       "      <th>3614</th>\n",
       "      <td>Angelo State University</td>\n",
       "      <td>San Angelo</td>\n",
       "      <td>TX</td>\n",
       "      <td>0.0</td>\n",
       "      <td>0.0</td>\n",
       "      <td>0.0</td>\n",
       "      <td>0</td>\n",
       "      <td>475.0</td>\n",
       "      <td>490.0</td>\n",
       "      <td>0.0</td>\n",
       "      <td>...</td>\n",
       "      <td>0.0285</td>\n",
       "      <td>0.0331</td>\n",
       "      <td>0.0011</td>\n",
       "      <td>0.1289</td>\n",
       "      <td>1</td>\n",
       "      <td>0.4068</td>\n",
       "      <td>0.5279</td>\n",
       "      <td>0.1407</td>\n",
       "      <td>37700</td>\n",
       "      <td>21319.5</td>\n",
       "    </tr>\n",
       "  </tbody>\n",
       "</table>\n",
       "<p>5 rows × 27 columns</p>\n",
       "</div>"
      ],
      "text/plain": [
       "                            INSTNM        CITY STABBR  HBCU  MENONLY  \\\n",
       "3610  Abilene Christian University     Abilene     TX   0.0      0.0   \n",
       "3611       Alvin Community College       Alvin     TX   0.0      0.0   \n",
       "3612              Amarillo College    Amarillo     TX   0.0      0.0   \n",
       "3613              Angelina College      Lufkin     TX   0.0      0.0   \n",
       "3614       Angelo State University  San Angelo     TX   0.0      0.0   \n",
       "\n",
       "      WOMENONLY  RELAFFIL  SATVRMID  SATMTMID  DISTANCEONLY  \\\n",
       "3610        0.0         1     530.0     545.0           0.0   \n",
       "3611        0.0         0       NaN       NaN           0.0   \n",
       "3612        0.0         0       NaN       NaN           0.0   \n",
       "3613        0.0         0       NaN       NaN           0.0   \n",
       "3614        0.0         0     475.0     490.0           0.0   \n",
       "\n",
       "             ...          UGDS_2MOR  UGDS_NRA  UGDS_UNKN  PPTUG_EF  CURROPER  \\\n",
       "3610         ...             0.0454    0.0423     0.0045    0.0468         1   \n",
       "3611         ...             0.0002    0.0000     0.0143    0.7123         1   \n",
       "3612         ...             0.0000    0.0001     0.0085    0.6922         1   \n",
       "3613         ...             0.0264    0.0005     0.0000    0.5600         1   \n",
       "3614         ...             0.0285    0.0331     0.0011    0.1289         1   \n",
       "\n",
       "      PCTPELL  PCTFLOAN  UG25ABV  MD_EARN_WNE_P10  GRAD_DEBT_MDN_SUPP  \n",
       "3610   0.2595    0.5527   0.0381            40200               25985  \n",
       "3611   0.1549    0.0625   0.2841            34500                6750  \n",
       "3612   0.3786    0.1573   0.3431            31700               10950  \n",
       "3613   0.5308    0.0000   0.2603            26900   PrivacySuppressed  \n",
       "3614   0.4068    0.5279   0.1407            37700             21319.5  \n",
       "\n",
       "[5 rows x 27 columns]"
      ]
     },
     "execution_count": 39,
     "metadata": {},
     "output_type": "execute_result"
    }
   ],
   "source": [
    "college[college['STABBR'] == 'TX'].head()"
   ]
  },
  {
   "cell_type": "code",
   "execution_count": 40,
   "metadata": {},
   "outputs": [],
   "source": [
    "# To replicate this using index selection, we need to move the STABBR column into the index.\n",
    "# We can then use label-based selection with the .loc indexer\n",
    "college2 = college.set_index('STABBR')"
   ]
  },
  {
   "cell_type": "code",
   "execution_count": 41,
   "metadata": {},
   "outputs": [
    {
     "data": {
      "text/html": [
       "<div>\n",
       "<style scoped>\n",
       "    .dataframe tbody tr th:only-of-type {\n",
       "        vertical-align: middle;\n",
       "    }\n",
       "\n",
       "    .dataframe tbody tr th {\n",
       "        vertical-align: top;\n",
       "    }\n",
       "\n",
       "    .dataframe thead th {\n",
       "        text-align: right;\n",
       "    }\n",
       "</style>\n",
       "<table border=\"1\" class=\"dataframe\">\n",
       "  <thead>\n",
       "    <tr style=\"text-align: right;\">\n",
       "      <th></th>\n",
       "      <th>INSTNM</th>\n",
       "      <th>CITY</th>\n",
       "      <th>HBCU</th>\n",
       "      <th>MENONLY</th>\n",
       "      <th>WOMENONLY</th>\n",
       "      <th>RELAFFIL</th>\n",
       "      <th>SATVRMID</th>\n",
       "      <th>SATMTMID</th>\n",
       "      <th>DISTANCEONLY</th>\n",
       "      <th>UGDS</th>\n",
       "      <th>...</th>\n",
       "      <th>UGDS_2MOR</th>\n",
       "      <th>UGDS_NRA</th>\n",
       "      <th>UGDS_UNKN</th>\n",
       "      <th>PPTUG_EF</th>\n",
       "      <th>CURROPER</th>\n",
       "      <th>PCTPELL</th>\n",
       "      <th>PCTFLOAN</th>\n",
       "      <th>UG25ABV</th>\n",
       "      <th>MD_EARN_WNE_P10</th>\n",
       "      <th>GRAD_DEBT_MDN_SUPP</th>\n",
       "    </tr>\n",
       "    <tr>\n",
       "      <th>STABBR</th>\n",
       "      <th></th>\n",
       "      <th></th>\n",
       "      <th></th>\n",
       "      <th></th>\n",
       "      <th></th>\n",
       "      <th></th>\n",
       "      <th></th>\n",
       "      <th></th>\n",
       "      <th></th>\n",
       "      <th></th>\n",
       "      <th></th>\n",
       "      <th></th>\n",
       "      <th></th>\n",
       "      <th></th>\n",
       "      <th></th>\n",
       "      <th></th>\n",
       "      <th></th>\n",
       "      <th></th>\n",
       "      <th></th>\n",
       "      <th></th>\n",
       "      <th></th>\n",
       "    </tr>\n",
       "  </thead>\n",
       "  <tbody>\n",
       "    <tr>\n",
       "      <th>TX</th>\n",
       "      <td>Abilene Christian University</td>\n",
       "      <td>Abilene</td>\n",
       "      <td>0.0</td>\n",
       "      <td>0.0</td>\n",
       "      <td>0.0</td>\n",
       "      <td>1</td>\n",
       "      <td>530.0</td>\n",
       "      <td>545.0</td>\n",
       "      <td>0.0</td>\n",
       "      <td>3572.0</td>\n",
       "      <td>...</td>\n",
       "      <td>0.0454</td>\n",
       "      <td>0.0423</td>\n",
       "      <td>0.0045</td>\n",
       "      <td>0.0468</td>\n",
       "      <td>1</td>\n",
       "      <td>0.2595</td>\n",
       "      <td>0.5527</td>\n",
       "      <td>0.0381</td>\n",
       "      <td>40200</td>\n",
       "      <td>25985</td>\n",
       "    </tr>\n",
       "    <tr>\n",
       "      <th>TX</th>\n",
       "      <td>Alvin Community College</td>\n",
       "      <td>Alvin</td>\n",
       "      <td>0.0</td>\n",
       "      <td>0.0</td>\n",
       "      <td>0.0</td>\n",
       "      <td>0</td>\n",
       "      <td>NaN</td>\n",
       "      <td>NaN</td>\n",
       "      <td>0.0</td>\n",
       "      <td>4682.0</td>\n",
       "      <td>...</td>\n",
       "      <td>0.0002</td>\n",
       "      <td>0.0000</td>\n",
       "      <td>0.0143</td>\n",
       "      <td>0.7123</td>\n",
       "      <td>1</td>\n",
       "      <td>0.1549</td>\n",
       "      <td>0.0625</td>\n",
       "      <td>0.2841</td>\n",
       "      <td>34500</td>\n",
       "      <td>6750</td>\n",
       "    </tr>\n",
       "    <tr>\n",
       "      <th>TX</th>\n",
       "      <td>Amarillo College</td>\n",
       "      <td>Amarillo</td>\n",
       "      <td>0.0</td>\n",
       "      <td>0.0</td>\n",
       "      <td>0.0</td>\n",
       "      <td>0</td>\n",
       "      <td>NaN</td>\n",
       "      <td>NaN</td>\n",
       "      <td>0.0</td>\n",
       "      <td>9346.0</td>\n",
       "      <td>...</td>\n",
       "      <td>0.0000</td>\n",
       "      <td>0.0001</td>\n",
       "      <td>0.0085</td>\n",
       "      <td>0.6922</td>\n",
       "      <td>1</td>\n",
       "      <td>0.3786</td>\n",
       "      <td>0.1573</td>\n",
       "      <td>0.3431</td>\n",
       "      <td>31700</td>\n",
       "      <td>10950</td>\n",
       "    </tr>\n",
       "    <tr>\n",
       "      <th>TX</th>\n",
       "      <td>Angelina College</td>\n",
       "      <td>Lufkin</td>\n",
       "      <td>0.0</td>\n",
       "      <td>0.0</td>\n",
       "      <td>0.0</td>\n",
       "      <td>0</td>\n",
       "      <td>NaN</td>\n",
       "      <td>NaN</td>\n",
       "      <td>0.0</td>\n",
       "      <td>3825.0</td>\n",
       "      <td>...</td>\n",
       "      <td>0.0264</td>\n",
       "      <td>0.0005</td>\n",
       "      <td>0.0000</td>\n",
       "      <td>0.5600</td>\n",
       "      <td>1</td>\n",
       "      <td>0.5308</td>\n",
       "      <td>0.0000</td>\n",
       "      <td>0.2603</td>\n",
       "      <td>26900</td>\n",
       "      <td>PrivacySuppressed</td>\n",
       "    </tr>\n",
       "    <tr>\n",
       "      <th>TX</th>\n",
       "      <td>Angelo State University</td>\n",
       "      <td>San Angelo</td>\n",
       "      <td>0.0</td>\n",
       "      <td>0.0</td>\n",
       "      <td>0.0</td>\n",
       "      <td>0</td>\n",
       "      <td>475.0</td>\n",
       "      <td>490.0</td>\n",
       "      <td>0.0</td>\n",
       "      <td>5290.0</td>\n",
       "      <td>...</td>\n",
       "      <td>0.0285</td>\n",
       "      <td>0.0331</td>\n",
       "      <td>0.0011</td>\n",
       "      <td>0.1289</td>\n",
       "      <td>1</td>\n",
       "      <td>0.4068</td>\n",
       "      <td>0.5279</td>\n",
       "      <td>0.1407</td>\n",
       "      <td>37700</td>\n",
       "      <td>21319.5</td>\n",
       "    </tr>\n",
       "  </tbody>\n",
       "</table>\n",
       "<p>5 rows × 26 columns</p>\n",
       "</div>"
      ],
      "text/plain": [
       "                              INSTNM        CITY  HBCU  MENONLY  WOMENONLY  \\\n",
       "STABBR                                                                       \n",
       "TX      Abilene Christian University     Abilene   0.0      0.0        0.0   \n",
       "TX           Alvin Community College       Alvin   0.0      0.0        0.0   \n",
       "TX                  Amarillo College    Amarillo   0.0      0.0        0.0   \n",
       "TX                  Angelina College      Lufkin   0.0      0.0        0.0   \n",
       "TX           Angelo State University  San Angelo   0.0      0.0        0.0   \n",
       "\n",
       "        RELAFFIL  SATVRMID  SATMTMID  DISTANCEONLY    UGDS  \\\n",
       "STABBR                                                       \n",
       "TX             1     530.0     545.0           0.0  3572.0   \n",
       "TX             0       NaN       NaN           0.0  4682.0   \n",
       "TX             0       NaN       NaN           0.0  9346.0   \n",
       "TX             0       NaN       NaN           0.0  3825.0   \n",
       "TX             0     475.0     490.0           0.0  5290.0   \n",
       "\n",
       "               ...          UGDS_2MOR  UGDS_NRA  UGDS_UNKN  PPTUG_EF  \\\n",
       "STABBR         ...                                                     \n",
       "TX             ...             0.0454    0.0423     0.0045    0.0468   \n",
       "TX             ...             0.0002    0.0000     0.0143    0.7123   \n",
       "TX             ...             0.0000    0.0001     0.0085    0.6922   \n",
       "TX             ...             0.0264    0.0005     0.0000    0.5600   \n",
       "TX             ...             0.0285    0.0331     0.0011    0.1289   \n",
       "\n",
       "        CURROPER  PCTPELL  PCTFLOAN  UG25ABV  MD_EARN_WNE_P10  \\\n",
       "STABBR                                                          \n",
       "TX             1   0.2595    0.5527   0.0381            40200   \n",
       "TX             1   0.1549    0.0625   0.2841            34500   \n",
       "TX             1   0.3786    0.1573   0.3431            31700   \n",
       "TX             1   0.5308    0.0000   0.2603            26900   \n",
       "TX             1   0.4068    0.5279   0.1407            37700   \n",
       "\n",
       "        GRAD_DEBT_MDN_SUPP  \n",
       "STABBR                      \n",
       "TX                   25985  \n",
       "TX                    6750  \n",
       "TX                   10950  \n",
       "TX       PrivacySuppressed  \n",
       "TX                 21319.5  \n",
       "\n",
       "[5 rows x 26 columns]"
      ]
     },
     "execution_count": 41,
     "metadata": {},
     "output_type": "execute_result"
    }
   ],
   "source": [
    "college2.loc['TX'].head()"
   ]
  },
  {
   "cell_type": "code",
   "execution_count": 44,
   "metadata": {},
   "outputs": [
    {
     "name": "stdout",
     "output_type": "stream",
     "text": [
      "1.83 ms ± 107 µs per loop (mean ± std. dev. of 7 runs, 1000 loops each)\n"
     ]
    }
   ],
   "source": [
    "# compare the speed of both methods\n",
    "%timeit college[college['STABBR'] == 'TX']"
   ]
  },
  {
   "cell_type": "code",
   "execution_count": 45,
   "metadata": {},
   "outputs": [
    {
     "name": "stdout",
     "output_type": "stream",
     "text": [
      "918 µs ± 99.4 µs per loop (mean ± std. dev. of 7 runs, 1000 loops each)\n"
     ]
    }
   ],
   "source": [
    " %timeit college2.loc['TX']"
   ]
  },
  {
   "cell_type": "code",
   "execution_count": 46,
   "metadata": {},
   "outputs": [
    {
     "name": "stdout",
     "output_type": "stream",
     "text": [
      "2.5 ms ± 96.5 µs per loop (mean ± std. dev. of 7 runs, 100 loops each)\n"
     ]
    }
   ],
   "source": [
    "%timeit college2 = college.set_index('STABBR')"
   ]
  },
  {
   "cell_type": "markdown",
   "metadata": {},
   "source": [
    "## Selecting with unique and sorted indexes"
   ]
  },
  {
   "cell_type": "code",
   "execution_count": 47,
   "metadata": {},
   "outputs": [],
   "source": [
    "# Read in the college dataset, create a separate DataFrame with STABBR as the index, and check whether the index is sorted\n",
    "college = pd.read_csv('data/college.csv')"
   ]
  },
  {
   "cell_type": "code",
   "execution_count": 48,
   "metadata": {},
   "outputs": [],
   "source": [
    "college2 = college.set_index('STABBR')"
   ]
  },
  {
   "cell_type": "code",
   "execution_count": 49,
   "metadata": {},
   "outputs": [
    {
     "data": {
      "text/plain": [
       "False"
      ]
     },
     "execution_count": 49,
     "metadata": {},
     "output_type": "execute_result"
    }
   ],
   "source": [
    "college2.index.is_monotonic"
   ]
  },
  {
   "cell_type": "code",
   "execution_count": 50,
   "metadata": {},
   "outputs": [],
   "source": [
    "# Sort the index from college2 and store it as another object\n",
    "college3 = college2.sort_index()"
   ]
  },
  {
   "cell_type": "code",
   "execution_count": 51,
   "metadata": {},
   "outputs": [
    {
     "data": {
      "text/plain": [
       "True"
      ]
     },
     "execution_count": 51,
     "metadata": {},
     "output_type": "execute_result"
    }
   ],
   "source": [
    "college3.index.is_monotonic"
   ]
  },
  {
   "cell_type": "code",
   "execution_count": 52,
   "metadata": {},
   "outputs": [
    {
     "name": "stdout",
     "output_type": "stream",
     "text": [
      "1.88 ms ± 223 µs per loop (mean ± std. dev. of 7 runs, 1000 loops each)\n"
     ]
    }
   ],
   "source": [
    "# Time the selection of the state of Texas (TX) from all three DataFrames\n",
    "%timeit college[college['STABBR'] == 'TX']"
   ]
  },
  {
   "cell_type": "code",
   "execution_count": 53,
   "metadata": {},
   "outputs": [
    {
     "name": "stdout",
     "output_type": "stream",
     "text": [
      "888 µs ± 67.5 µs per loop (mean ± std. dev. of 7 runs, 1000 loops each)\n"
     ]
    }
   ],
   "source": [
    "%timeit college2.loc['TX']"
   ]
  },
  {
   "cell_type": "code",
   "execution_count": 54,
   "metadata": {},
   "outputs": [
    {
     "name": "stdout",
     "output_type": "stream",
     "text": [
      "249 µs ± 25.9 µs per loop (mean ± std. dev. of 7 runs, 1000 loops each)\n"
     ]
    }
   ],
   "source": [
    "%timeit college3.loc['TX']"
   ]
  },
  {
   "cell_type": "code",
   "execution_count": 55,
   "metadata": {},
   "outputs": [],
   "source": [
    "college_unique = college.set_index('INSTNM')"
   ]
  },
  {
   "cell_type": "code",
   "execution_count": 56,
   "metadata": {},
   "outputs": [
    {
     "data": {
      "text/plain": [
       "True"
      ]
     },
     "execution_count": 56,
     "metadata": {},
     "output_type": "execute_result"
    }
   ],
   "source": [
    "college_unique.index.is_unique"
   ]
  },
  {
   "cell_type": "code",
   "execution_count": 57,
   "metadata": {},
   "outputs": [
    {
     "data": {
      "text/html": [
       "<div>\n",
       "<style scoped>\n",
       "    .dataframe tbody tr th:only-of-type {\n",
       "        vertical-align: middle;\n",
       "    }\n",
       "\n",
       "    .dataframe tbody tr th {\n",
       "        vertical-align: top;\n",
       "    }\n",
       "\n",
       "    .dataframe thead th {\n",
       "        text-align: right;\n",
       "    }\n",
       "</style>\n",
       "<table border=\"1\" class=\"dataframe\">\n",
       "  <thead>\n",
       "    <tr style=\"text-align: right;\">\n",
       "      <th></th>\n",
       "      <th>INSTNM</th>\n",
       "      <th>CITY</th>\n",
       "      <th>STABBR</th>\n",
       "      <th>HBCU</th>\n",
       "      <th>MENONLY</th>\n",
       "      <th>WOMENONLY</th>\n",
       "      <th>RELAFFIL</th>\n",
       "      <th>SATVRMID</th>\n",
       "      <th>SATMTMID</th>\n",
       "      <th>DISTANCEONLY</th>\n",
       "      <th>...</th>\n",
       "      <th>UGDS_2MOR</th>\n",
       "      <th>UGDS_NRA</th>\n",
       "      <th>UGDS_UNKN</th>\n",
       "      <th>PPTUG_EF</th>\n",
       "      <th>CURROPER</th>\n",
       "      <th>PCTPELL</th>\n",
       "      <th>PCTFLOAN</th>\n",
       "      <th>UG25ABV</th>\n",
       "      <th>MD_EARN_WNE_P10</th>\n",
       "      <th>GRAD_DEBT_MDN_SUPP</th>\n",
       "    </tr>\n",
       "  </thead>\n",
       "  <tbody>\n",
       "    <tr>\n",
       "      <th>4217</th>\n",
       "      <td>Stanford University</td>\n",
       "      <td>Stanford</td>\n",
       "      <td>CA</td>\n",
       "      <td>0.0</td>\n",
       "      <td>0.0</td>\n",
       "      <td>0.0</td>\n",
       "      <td>0</td>\n",
       "      <td>730.0</td>\n",
       "      <td>745.0</td>\n",
       "      <td>0.0</td>\n",
       "      <td>...</td>\n",
       "      <td>0.1067</td>\n",
       "      <td>0.0819</td>\n",
       "      <td>0.0031</td>\n",
       "      <td>0.0</td>\n",
       "      <td>1</td>\n",
       "      <td>0.1556</td>\n",
       "      <td>0.1256</td>\n",
       "      <td>0.0401</td>\n",
       "      <td>86000</td>\n",
       "      <td>12782</td>\n",
       "    </tr>\n",
       "  </tbody>\n",
       "</table>\n",
       "<p>1 rows × 27 columns</p>\n",
       "</div>"
      ],
      "text/plain": [
       "                   INSTNM      CITY STABBR  HBCU  MENONLY  WOMENONLY  \\\n",
       "4217  Stanford University  Stanford     CA   0.0      0.0        0.0   \n",
       "\n",
       "      RELAFFIL  SATVRMID  SATMTMID  DISTANCEONLY         ...          \\\n",
       "4217         0     730.0     745.0           0.0         ...           \n",
       "\n",
       "      UGDS_2MOR  UGDS_NRA  UGDS_UNKN  PPTUG_EF  CURROPER  PCTPELL  PCTFLOAN  \\\n",
       "4217     0.1067    0.0819     0.0031       0.0         1   0.1556    0.1256   \n",
       "\n",
       "      UG25ABV  MD_EARN_WNE_P10  GRAD_DEBT_MDN_SUPP  \n",
       "4217   0.0401            86000               12782  \n",
       "\n",
       "[1 rows x 27 columns]"
      ]
     },
     "execution_count": 57,
     "metadata": {},
     "output_type": "execute_result"
    }
   ],
   "source": [
    "college[college['INSTNM'] == 'Stanford University']"
   ]
  },
  {
   "cell_type": "code",
   "execution_count": 58,
   "metadata": {},
   "outputs": [
    {
     "data": {
      "text/plain": [
       "CITY                  Stanford\n",
       "STABBR                      CA\n",
       "HBCU                         0\n",
       "MENONLY                      0\n",
       "WOMENONLY                    0\n",
       "RELAFFIL                     0\n",
       "SATVRMID                   730\n",
       "SATMTMID                   745\n",
       "DISTANCEONLY                 0\n",
       "UGDS                      7018\n",
       "UGDS_WHITE              0.3752\n",
       "UGDS_BLACK              0.0591\n",
       "UGDS_HISP               0.1607\n",
       "UGDS_ASIAN              0.1979\n",
       "UGDS_AIAN               0.0114\n",
       "UGDS_NHPI               0.0038\n",
       "UGDS_2MOR               0.1067\n",
       "UGDS_NRA                0.0819\n",
       "UGDS_UNKN               0.0031\n",
       "PPTUG_EF                     0\n",
       "CURROPER                     1\n",
       "PCTPELL                 0.1556\n",
       "PCTFLOAN                0.1256\n",
       "UG25ABV                 0.0401\n",
       "MD_EARN_WNE_P10          86000\n",
       "GRAD_DEBT_MDN_SUPP       12782\n",
       "Name: Stanford University, dtype: object"
      ]
     },
     "execution_count": 58,
     "metadata": {},
     "output_type": "execute_result"
    }
   ],
   "source": [
    "college_unique.loc['Stanford University']"
   ]
  },
  {
   "cell_type": "code",
   "execution_count": 59,
   "metadata": {},
   "outputs": [
    {
     "name": "stdout",
     "output_type": "stream",
     "text": [
      "1.66 ms ± 81.8 µs per loop (mean ± std. dev. of 7 runs, 1000 loops each)\n"
     ]
    }
   ],
   "source": [
    "%timeit college[college['INSTNM'] == 'Stanford University']"
   ]
  },
  {
   "cell_type": "code",
   "execution_count": 60,
   "metadata": {},
   "outputs": [
    {
     "name": "stdout",
     "output_type": "stream",
     "text": [
      "205 µs ± 22.1 µs per loop (mean ± std. dev. of 7 runs, 1000 loops each)\n"
     ]
    }
   ],
   "source": [
    "%timeit college_unique.loc['Stanford University']"
   ]
  },
  {
   "cell_type": "markdown",
   "metadata": {},
   "source": [
    "## Gaining perspective on stock prices"
   ]
  },
  {
   "cell_type": "code",
   "execution_count": 3,
   "metadata": {},
   "outputs": [],
   "source": [
    "import pandas as pd"
   ]
  },
  {
   "cell_type": "code",
   "execution_count": 4,
   "metadata": {},
   "outputs": [],
   "source": [
    "import numpy as np"
   ]
  },
  {
   "cell_type": "code",
   "execution_count": 5,
   "metadata": {},
   "outputs": [],
   "source": [
    "import matplotlib.pyplot as plt"
   ]
  },
  {
   "cell_type": "code",
   "execution_count": 6,
   "metadata": {},
   "outputs": [],
   "source": [
    "%matplotlib inline"
   ]
  },
  {
   "cell_type": "code",
   "execution_count": 7,
   "metadata": {},
   "outputs": [],
   "source": [
    "#Read in the Schlumberger stock data, put the Date column into the index, and convert it to a DatetimeIndex\n",
    "slb = pd.read_csv('data/slb_stock.csv', index_col='Date', parse_dates=['Date'])"
   ]
  },
  {
   "cell_type": "code",
   "execution_count": 8,
   "metadata": {},
   "outputs": [
    {
     "data": {
      "text/html": [
       "<div>\n",
       "<style scoped>\n",
       "    .dataframe tbody tr th:only-of-type {\n",
       "        vertical-align: middle;\n",
       "    }\n",
       "\n",
       "    .dataframe tbody tr th {\n",
       "        vertical-align: top;\n",
       "    }\n",
       "\n",
       "    .dataframe thead th {\n",
       "        text-align: right;\n",
       "    }\n",
       "</style>\n",
       "<table border=\"1\" class=\"dataframe\">\n",
       "  <thead>\n",
       "    <tr style=\"text-align: right;\">\n",
       "      <th></th>\n",
       "      <th>Open</th>\n",
       "      <th>High</th>\n",
       "      <th>Low</th>\n",
       "      <th>Close</th>\n",
       "      <th>Volume</th>\n",
       "    </tr>\n",
       "    <tr>\n",
       "      <th>Date</th>\n",
       "      <th></th>\n",
       "      <th></th>\n",
       "      <th></th>\n",
       "      <th></th>\n",
       "      <th></th>\n",
       "    </tr>\n",
       "  </thead>\n",
       "  <tbody>\n",
       "    <tr>\n",
       "      <th>2010-01-04</th>\n",
       "      <td>66.39</td>\n",
       "      <td>67.20</td>\n",
       "      <td>66.12</td>\n",
       "      <td>67.11</td>\n",
       "      <td>5771234</td>\n",
       "    </tr>\n",
       "    <tr>\n",
       "      <th>2010-01-05</th>\n",
       "      <td>66.99</td>\n",
       "      <td>67.62</td>\n",
       "      <td>66.73</td>\n",
       "      <td>67.30</td>\n",
       "      <td>7366270</td>\n",
       "    </tr>\n",
       "    <tr>\n",
       "      <th>2010-01-06</th>\n",
       "      <td>67.17</td>\n",
       "      <td>68.94</td>\n",
       "      <td>67.03</td>\n",
       "      <td>68.80</td>\n",
       "      <td>9949946</td>\n",
       "    </tr>\n",
       "    <tr>\n",
       "      <th>2010-01-07</th>\n",
       "      <td>68.49</td>\n",
       "      <td>69.81</td>\n",
       "      <td>68.21</td>\n",
       "      <td>69.51</td>\n",
       "      <td>7700297</td>\n",
       "    </tr>\n",
       "    <tr>\n",
       "      <th>2010-01-08</th>\n",
       "      <td>69.19</td>\n",
       "      <td>72.00</td>\n",
       "      <td>69.09</td>\n",
       "      <td>70.65</td>\n",
       "      <td>13487621</td>\n",
       "    </tr>\n",
       "  </tbody>\n",
       "</table>\n",
       "</div>"
      ],
      "text/plain": [
       "             Open   High    Low  Close    Volume\n",
       "Date                                            \n",
       "2010-01-04  66.39  67.20  66.12  67.11   5771234\n",
       "2010-01-05  66.99  67.62  66.73  67.30   7366270\n",
       "2010-01-06  67.17  68.94  67.03  68.80   9949946\n",
       "2010-01-07  68.49  69.81  68.21  69.51   7700297\n",
       "2010-01-08  69.19  72.00  69.09  70.65  13487621"
      ]
     },
     "execution_count": 8,
     "metadata": {},
     "output_type": "execute_result"
    }
   ],
   "source": [
    "slb.head()"
   ]
  },
  {
   "cell_type": "code",
   "execution_count": 9,
   "metadata": {},
   "outputs": [],
   "source": [
    "# Select the closing price as a Series and use the describe method to return summary statistics as a Series\n",
    "slb_close = slb['Close']"
   ]
  },
  {
   "cell_type": "code",
   "execution_count": 10,
   "metadata": {},
   "outputs": [],
   "source": [
    "slb_summary = slb_close.describe(percentiles=[.1, .9])"
   ]
  },
  {
   "cell_type": "code",
   "execution_count": 11,
   "metadata": {},
   "outputs": [
    {
     "data": {
      "text/plain": [
       "count    1895.000000\n",
       "mean       79.121905\n",
       "std        11.767802\n",
       "min        51.750000\n",
       "10%        64.892000\n",
       "50%        78.000000\n",
       "90%        93.248000\n",
       "max       117.950000\n",
       "Name: Close, dtype: float64"
      ]
     },
     "execution_count": 11,
     "metadata": {},
     "output_type": "execute_result"
    }
   ],
   "source": [
    "slb_summary"
   ]
  },
  {
   "cell_type": "code",
   "execution_count": 12,
   "metadata": {},
   "outputs": [],
   "source": [
    "# Using boolean selection, select all closing prices in the upper or lower tenth percentile\n",
    "upper_10 = slb_summary.loc['90%']"
   ]
  },
  {
   "cell_type": "code",
   "execution_count": 13,
   "metadata": {},
   "outputs": [],
   "source": [
    "lower_10 = slb_summary.loc['10%']"
   ]
  },
  {
   "cell_type": "code",
   "execution_count": 14,
   "metadata": {},
   "outputs": [],
   "source": [
    "criteria = (slb_close < lower_10) | (slb_close > upper_10)"
   ]
  },
  {
   "cell_type": "code",
   "execution_count": 15,
   "metadata": {},
   "outputs": [],
   "source": [
    "slb_top_bottom_10 = slb_close[criteria]"
   ]
  },
  {
   "cell_type": "code",
   "execution_count": 16,
   "metadata": {},
   "outputs": [
    {
     "data": {
      "text/plain": [
       "<matplotlib.axes._subplots.AxesSubplot at 0x2ce874378d0>"
      ]
     },
     "execution_count": 16,
     "metadata": {},
     "output_type": "execute_result"
    },
    {
     "data": {
      "image/png": "[encoded data removed]",
      "text/plain": [
       "<Figure size 864x432 with 1 Axes>"
      ]
     },
     "metadata": {
      "needs_background": "light"
     },
     "output_type": "display_data"
    }
   ],
   "source": [
    "# Plot the resulting filtered Series in light gray on top of all closing prices in black.\n",
    "# Use the matplotlib library to draw horizontal lines at the tenth and ninetieth percentiles\n",
    "slb_close.plot(color='black', figsize=(12,6))"
   ]
  },
  {
   "cell_type": "code",
   "execution_count": 17,
   "metadata": {},
   "outputs": [
    {
     "data": {
      "text/plain": [
       "<matplotlib.axes._subplots.AxesSubplot at 0x2ce878cb6a0>"
      ]
     },
     "execution_count": 17,
     "metadata": {},
     "output_type": "execute_result"
    },
    {
     "data": {
      "image/png": "[encoded data removed]",
      "text/plain": [
       "<Figure size 432x288 with 1 Axes>"
      ]
     },
     "metadata": {
      "needs_background": "light"
     },
     "output_type": "display_data"
    }
   ],
   "source": [
    "slb_top_bottom_10.plot(marker='o', style=' ',\n",
    " ms=4, color='lightgray')"
   ]
  },
  {
   "cell_type": "code",
   "execution_count": 18,
   "metadata": {},
   "outputs": [],
   "source": [
    "xmin = criteria.index[0]"
   ]
  },
  {
   "cell_type": "code",
   "execution_count": 19,
   "metadata": {},
   "outputs": [],
   "source": [
    "xmax = criteria.index[-1]"
   ]
  },
  {
   "cell_type": "code",
   "execution_count": 20,
   "metadata": {},
   "outputs": [
    {
     "data": {
      "text/plain": [
       "<matplotlib.collections.LineCollection at 0x2ce87744fd0>"
      ]
     },
     "execution_count": 20,
     "metadata": {},
     "output_type": "execute_result"
    },
    {
     "data": {
      "image/png": "[encoded data removed]",
      "text/plain": [
       "<Figure size 432x288 with 1 Axes>"
      ]
     },
     "metadata": {
      "needs_background": "light"
     },
     "output_type": "display_data"
    }
   ],
   "source": [
    "plt.hlines(y=[lower_10, upper_10], xmin=xmin, xmax=xmax, color='black')"
   ]
  },
  {
   "cell_type": "markdown",
   "metadata": {},
   "source": [
    "Instead of plotting red points (black points) over the closing prices to indicate the upper and\n",
    "lower tenth percentiles, we can use matplotlib's fill_between function. This function fills\n",
    "in all the areas between two lines. It takes an optional where parameter that accepts a\n",
    "boolean Series, alerting it to exactly which locations to fill in"
   ]
  },
  {
   "cell_type": "code",
   "execution_count": 21,
   "metadata": {},
   "outputs": [
    {
     "data": {
      "text/plain": [
       "<matplotlib.axes._subplots.AxesSubplot at 0x2ce8778eef0>"
      ]
     },
     "execution_count": 21,
     "metadata": {},
     "output_type": "execute_result"
    },
    {
     "data": {
      "image/png": "[encoded data removed]",
      "text/plain": [
       "<Figure size 864x432 with 1 Axes>"
      ]
     },
     "metadata": {
      "needs_background": "light"
     },
     "output_type": "display_data"
    }
   ],
   "source": [
    "slb_close.plot(color='black', figsize=(12,6))"
   ]
  },
  {
   "cell_type": "code",
   "execution_count": 22,
   "metadata": {},
   "outputs": [
    {
     "data": {
      "text/plain": [
       "<matplotlib.collections.LineCollection at 0x2ce877e85c0>"
      ]
     },
     "execution_count": 22,
     "metadata": {},
     "output_type": "execute_result"
    },
    {
     "data": {
      "image/png": "[encoded data removed]",
      "text/plain": [
       "<Figure size 432x288 with 1 Axes>"
      ]
     },
     "metadata": {
      "needs_background": "light"
     },
     "output_type": "display_data"
    }
   ],
   "source": [
    "plt.hlines(y=[lower_10, upper_10],\n",
    " xmin=xmin, xmax=xmax,color='lightgray')"
   ]
  },
  {
   "cell_type": "code",
   "execution_count": 23,
   "metadata": {},
   "outputs": [
    {
     "data": {
      "text/plain": [
       "<matplotlib.collections.PolyCollection at 0x2ce8781f978>"
      ]
     },
     "execution_count": 23,
     "metadata": {},
     "output_type": "execute_result"
    },
    {
     "data": {
      "image/png": "[encoded data removed]",
      "text/plain": [
       "<Figure size 432x288 with 1 Axes>"
      ]
     },
     "metadata": {
      "needs_background": "light"
     },
     "output_type": "display_data"
    }
   ],
   "source": [
    "plt.fill_between(x=criteria.index, y1=lower_10,\n",
    " y2=slb_close.values, color='black')"
   ]
  },
  {
   "cell_type": "code",
   "execution_count": 24,
   "metadata": {},
   "outputs": [
    {
     "data": {
      "text/plain": [
       "<matplotlib.collections.PolyCollection at 0x2ce8785d518>"
      ]
     },
     "execution_count": 24,
     "metadata": {},
     "output_type": "execute_result"
    },
    {
     "data": {
      "image/png": "[encoded data removed]",
      "text/plain": [
       "<Figure size 432x288 with 1 Axes>"
      ]
     },
     "metadata": {
      "needs_background": "light"
     },
     "output_type": "display_data"
    }
   ],
   "source": [
    "plt.fill_between(x=criteria.index,y1=lower_10,\n",
    " y2=slb_close.values, where=slb_close < lower_10,\n",
    " color='lightgray')"
   ]
  },
  {
   "cell_type": "code",
   "execution_count": 25,
   "metadata": {},
   "outputs": [
    {
     "data": {
      "text/plain": [
       "<matplotlib.collections.PolyCollection at 0x2ce8788e860>"
      ]
     },
     "execution_count": 25,
     "metadata": {},
     "output_type": "execute_result"
    },
    {
     "data": {
      "image/png": "[encoded data removed]",
      "text/plain": [
       "<Figure size 432x288 with 1 Axes>"
      ]
     },
     "metadata": {
      "needs_background": "light"
     },
     "output_type": "display_data"
    }
   ],
   "source": [
    "plt.fill_between(x=criteria.index, y1=upper_10,\n",
    " y2=slb_close.values, where=slb_close > upper_10,\n",
    " color='lightgray')"
   ]
  },
  {
   "cell_type": "markdown",
   "metadata": {},
   "source": [
    "## Translating SQL WHERE clauses"
   ]
  },
  {
   "cell_type": "markdown",
   "metadata": {},
   "source": [
    "Many pandas users will have a background processing data directly from databases using\n",
    "the ubiquitous Structured Query Language (SQL). SQL is a standardized language to\n",
    "define, manipulate, and control data stored in a database. The SELECT statement is the most\n",
    "common way to use SQL to select, filter, aggregate, and order data. Pandas has the ability to\n",
    "connect to databases and send SQL statements to them"
   ]
  },
  {
   "cell_type": "code",
   "execution_count": 26,
   "metadata": {},
   "outputs": [],
   "source": [
    "# Read in the employee dataset as a DataFrame\n",
    "employee = pd.read_csv('data/employee.csv')"
   ]
  },
  {
   "cell_type": "code",
   "execution_count": 27,
   "metadata": {},
   "outputs": [
    {
     "data": {
      "text/plain": [
       "Houston Police Department-HPD     638\n",
       "Houston Fire Department (HFD)     384\n",
       "Public Works & Engineering-PWE    343\n",
       "Health & Human Services           110\n",
       "Houston Airport System (HAS)      106\n",
       "Name: DEPARTMENT, dtype: int64"
      ]
     },
     "execution_count": 27,
     "metadata": {},
     "output_type": "execute_result"
    }
   ],
   "source": [
    "# Before filtering out the data, it is helpful to do some manual inspection of each of the filtered columns to know the exact values that will be used in the filter\n",
    "employee.DEPARTMENT.value_counts().head()"
   ]
  },
  {
   "cell_type": "code",
   "execution_count": 28,
   "metadata": {},
   "outputs": [
    {
     "data": {
      "text/plain": [
       "Male      1397\n",
       "Female     603\n",
       "Name: GENDER, dtype: int64"
      ]
     },
     "execution_count": 28,
     "metadata": {},
     "output_type": "execute_result"
    }
   ],
   "source": [
    "employee.GENDER.value_counts()"
   ]
  },
  {
   "cell_type": "code",
   "execution_count": 29,
   "metadata": {},
   "outputs": [
    {
     "data": {
      "text/plain": [
       "count      1886\n",
       "mean      55767\n",
       "std       21693\n",
       "min       24960\n",
       "25%       40170\n",
       "50%       54461\n",
       "75%       66614\n",
       "max      275000\n",
       "Name: BASE_SALARY, dtype: int32"
      ]
     },
     "execution_count": 29,
     "metadata": {},
     "output_type": "execute_result"
    }
   ],
   "source": [
    "employee.BASE_SALARY.describe().astype(int)"
   ]
  },
  {
   "cell_type": "code",
   "execution_count": 30,
   "metadata": {},
   "outputs": [],
   "source": [
    "# Write a single statement for each of the criteria. Use the isin method to test equality to one of many values\n",
    "depts = ['Houston Police Department-HPD', 'Houston Fire Department (HFD)']"
   ]
  },
  {
   "cell_type": "code",
   "execution_count": 31,
   "metadata": {},
   "outputs": [],
   "source": [
    "criteria_dept = employee.DEPARTMENT.isin(depts)"
   ]
  },
  {
   "cell_type": "code",
   "execution_count": 32,
   "metadata": {},
   "outputs": [],
   "source": [
    "criteria_gender = employee.GENDER == 'Female'"
   ]
  },
  {
   "cell_type": "code",
   "execution_count": 33,
   "metadata": {},
   "outputs": [],
   "source": [
    "criteria_sal = (employee.BASE_SALARY >= 80000) & (employee.BASE_SALARY <= 120000)"
   ]
  },
  {
   "cell_type": "code",
   "execution_count": 34,
   "metadata": {},
   "outputs": [],
   "source": [
    "# Combine all the boolean Series together\n",
    "criteria_final = (criteria_dept & criteria_gender & criteria_sal)"
   ]
  },
  {
   "cell_type": "code",
   "execution_count": 35,
   "metadata": {},
   "outputs": [],
   "source": [
    "# Use boolean indexing to select only the rows that meet the final criteria\n",
    "select_columns = ['UNIQUE_ID', 'DEPARTMENT', 'GENDER', 'BASE_SALARY']"
   ]
  },
  {
   "cell_type": "code",
   "execution_count": 36,
   "metadata": {},
   "outputs": [
    {
     "data": {
      "text/html": [
       "<div>\n",
       "<style scoped>\n",
       "    .dataframe tbody tr th:only-of-type {\n",
       "        vertical-align: middle;\n",
       "    }\n",
       "\n",
       "    .dataframe tbody tr th {\n",
       "        vertical-align: top;\n",
       "    }\n",
       "\n",
       "    .dataframe thead th {\n",
       "        text-align: right;\n",
       "    }\n",
       "</style>\n",
       "<table border=\"1\" class=\"dataframe\">\n",
       "  <thead>\n",
       "    <tr style=\"text-align: right;\">\n",
       "      <th></th>\n",
       "      <th>UNIQUE_ID</th>\n",
       "      <th>DEPARTMENT</th>\n",
       "      <th>GENDER</th>\n",
       "      <th>BASE_SALARY</th>\n",
       "    </tr>\n",
       "  </thead>\n",
       "  <tbody>\n",
       "    <tr>\n",
       "      <th>61</th>\n",
       "      <td>61</td>\n",
       "      <td>Houston Fire Department (HFD)</td>\n",
       "      <td>Female</td>\n",
       "      <td>96668.0</td>\n",
       "    </tr>\n",
       "    <tr>\n",
       "      <th>136</th>\n",
       "      <td>136</td>\n",
       "      <td>Houston Police Department-HPD</td>\n",
       "      <td>Female</td>\n",
       "      <td>81239.0</td>\n",
       "    </tr>\n",
       "    <tr>\n",
       "      <th>367</th>\n",
       "      <td>367</td>\n",
       "      <td>Houston Police Department-HPD</td>\n",
       "      <td>Female</td>\n",
       "      <td>86534.0</td>\n",
       "    </tr>\n",
       "    <tr>\n",
       "      <th>474</th>\n",
       "      <td>474</td>\n",
       "      <td>Houston Police Department-HPD</td>\n",
       "      <td>Female</td>\n",
       "      <td>91181.0</td>\n",
       "    </tr>\n",
       "    <tr>\n",
       "      <th>513</th>\n",
       "      <td>513</td>\n",
       "      <td>Houston Police Department-HPD</td>\n",
       "      <td>Female</td>\n",
       "      <td>81239.0</td>\n",
       "    </tr>\n",
       "  </tbody>\n",
       "</table>\n",
       "</div>"
      ],
      "text/plain": [
       "     UNIQUE_ID                     DEPARTMENT  GENDER  BASE_SALARY\n",
       "61          61  Houston Fire Department (HFD)  Female      96668.0\n",
       "136        136  Houston Police Department-HPD  Female      81239.0\n",
       "367        367  Houston Police Department-HPD  Female      86534.0\n",
       "474        474  Houston Police Department-HPD  Female      91181.0\n",
       "513        513  Houston Police Department-HPD  Female      81239.0"
      ]
     },
     "execution_count": 36,
     "metadata": {},
     "output_type": "execute_result"
    }
   ],
   "source": [
    "employee.loc[criteria_final, select_columns].head()"
   ]
  },
  {
   "cell_type": "markdown",
   "metadata": {},
   "source": [
    "## Determining the normality of stock market returns"
   ]
  },
  {
   "cell_type": "markdown",
   "metadata": {},
   "source": [
    "The normal distribution is heavily relied upon to describe many different populations of data. \n",
    "Although many random processes do appear to look like normal distributions most of the time, real-life tends to be more complex.\n",
    "Stock market returns are a prime example of a distribution that can look fairly normal but in actuality be\n",
    "quite far off"
   ]
  },
  {
   "cell_type": "code",
   "execution_count": 37,
   "metadata": {},
   "outputs": [],
   "source": [
    "#Load Amazon stock data and set the date as the index\n",
    "amzn = pd.read_csv('data/amzn_stock.csv', index_col='Date', parse_dates=['Date'])"
   ]
  },
  {
   "cell_type": "code",
   "execution_count": 38,
   "metadata": {},
   "outputs": [
    {
     "data": {
      "text/html": [
       "<div>\n",
       "<style scoped>\n",
       "    .dataframe tbody tr th:only-of-type {\n",
       "        vertical-align: middle;\n",
       "    }\n",
       "\n",
       "    .dataframe tbody tr th {\n",
       "        vertical-align: top;\n",
       "    }\n",
       "\n",
       "    .dataframe thead th {\n",
       "        text-align: right;\n",
       "    }\n",
       "</style>\n",
       "<table border=\"1\" class=\"dataframe\">\n",
       "  <thead>\n",
       "    <tr style=\"text-align: right;\">\n",
       "      <th></th>\n",
       "      <th>Open</th>\n",
       "      <th>High</th>\n",
       "      <th>Low</th>\n",
       "      <th>Close</th>\n",
       "      <th>Volume</th>\n",
       "    </tr>\n",
       "    <tr>\n",
       "      <th>Date</th>\n",
       "      <th></th>\n",
       "      <th></th>\n",
       "      <th></th>\n",
       "      <th></th>\n",
       "      <th></th>\n",
       "    </tr>\n",
       "  </thead>\n",
       "  <tbody>\n",
       "    <tr>\n",
       "      <th>2010-01-04</th>\n",
       "      <td>136.25</td>\n",
       "      <td>136.61</td>\n",
       "      <td>133.14</td>\n",
       "      <td>133.90</td>\n",
       "      <td>7600543</td>\n",
       "    </tr>\n",
       "    <tr>\n",
       "      <th>2010-01-05</th>\n",
       "      <td>133.43</td>\n",
       "      <td>135.48</td>\n",
       "      <td>131.81</td>\n",
       "      <td>134.69</td>\n",
       "      <td>8856456</td>\n",
       "    </tr>\n",
       "    <tr>\n",
       "      <th>2010-01-06</th>\n",
       "      <td>134.60</td>\n",
       "      <td>134.73</td>\n",
       "      <td>131.65</td>\n",
       "      <td>132.25</td>\n",
       "      <td>7180977</td>\n",
       "    </tr>\n",
       "    <tr>\n",
       "      <th>2010-01-07</th>\n",
       "      <td>132.01</td>\n",
       "      <td>132.32</td>\n",
       "      <td>128.80</td>\n",
       "      <td>130.00</td>\n",
       "      <td>11030124</td>\n",
       "    </tr>\n",
       "    <tr>\n",
       "      <th>2010-01-08</th>\n",
       "      <td>130.56</td>\n",
       "      <td>133.68</td>\n",
       "      <td>129.03</td>\n",
       "      <td>133.52</td>\n",
       "      <td>9833829</td>\n",
       "    </tr>\n",
       "  </tbody>\n",
       "</table>\n",
       "</div>"
      ],
      "text/plain": [
       "              Open    High     Low   Close    Volume\n",
       "Date                                                \n",
       "2010-01-04  136.25  136.61  133.14  133.90   7600543\n",
       "2010-01-05  133.43  135.48  131.81  134.69   8856456\n",
       "2010-01-06  134.60  134.73  131.65  132.25   7180977\n",
       "2010-01-07  132.01  132.32  128.80  130.00  11030124\n",
       "2010-01-08  130.56  133.68  129.03  133.52   9833829"
      ]
     },
     "execution_count": 38,
     "metadata": {},
     "output_type": "execute_result"
    }
   ],
   "source": [
    "amzn.head()"
   ]
  },
  {
   "cell_type": "code",
   "execution_count": 39,
   "metadata": {},
   "outputs": [],
   "source": [
    "# Create a Series by selecting only the closing price and then using the pct_change method to get the daily rate of return\n",
    "amzn_daily_return = amzn.Close.pct_change()"
   ]
  },
  {
   "cell_type": "code",
   "execution_count": 40,
   "metadata": {},
   "outputs": [
    {
     "data": {
      "text/plain": [
       "Date\n",
       "2010-01-04         NaN\n",
       "2010-01-05    0.005900\n",
       "2010-01-06   -0.018116\n",
       "2010-01-07   -0.017013\n",
       "2010-01-08    0.027077\n",
       "Name: Close, dtype: float64"
      ]
     },
     "execution_count": 40,
     "metadata": {},
     "output_type": "execute_result"
    }
   ],
   "source": [
    "amzn_daily_return.head()"
   ]
  },
  {
   "cell_type": "code",
   "execution_count": 42,
   "metadata": {},
   "outputs": [],
   "source": [
    "# Drop the missing value and plot a histogram of the returns to visually inspect the distribution\n",
    "amzn_daily_return = amzn_daily_return.dropna()"
   ]
  },
  {
   "cell_type": "code",
   "execution_count": 43,
   "metadata": {},
   "outputs": [
    {
     "data": {
      "text/plain": [
       "<matplotlib.axes._subplots.AxesSubplot at 0x2ce87918f98>"
      ]
     },
     "execution_count": 43,
     "metadata": {},
     "output_type": "execute_result"
    },
    {
     "data": {
      "image/png": "[encoded data removed]",
      "text/plain": [
       "<Figure size 432x288 with 1 Axes>"
      ]
     },
     "metadata": {
      "needs_background": "light"
     },
     "output_type": "display_data"
    }
   ],
   "source": [
    "amzn_daily_return.hist(bins=20)"
   ]
  },
  {
   "cell_type": "markdown",
   "metadata": {},
   "source": [
    "Normal distributions approximately follow the 68-95-99.7 rule--meaning that 68%\n",
    "of the data falls between 1 standard deviation of the mean, 95% between 2, and\n",
    "99.7% between 3. We will now calculate the percentage of daily returns that fall\n",
    "between 1, 2, and 3 standard deviations from the mean. For this, we will need the\n",
    "mean and standard deviation"
   ]
  },
  {
   "cell_type": "code",
   "execution_count": 44,
   "metadata": {},
   "outputs": [],
   "source": [
    "mean = amzn_daily_return.mean()"
   ]
  },
  {
   "cell_type": "code",
   "execution_count": 45,
   "metadata": {},
   "outputs": [],
   "source": [
    "std = amzn_daily_return.std()"
   ]
  },
  {
   "cell_type": "code",
   "execution_count": 46,
   "metadata": {},
   "outputs": [],
   "source": [
    "#Calculate the absolute value of the z-score for each observation. \n",
    "#The z-score is the number of standard deviations away from the mean\n",
    "abs_z_score = amzn_daily_return.sub(mean).abs().div(std)"
   ]
  },
  {
   "cell_type": "code",
   "execution_count": 47,
   "metadata": {},
   "outputs": [],
   "source": [
    "# Find the percentage of returns that are within 1, 2, and 3 standard deviations\n",
    "pcts = [abs_z_score.lt(i).mean() for i in range(1,4)]"
   ]
  },
  {
   "cell_type": "code",
   "execution_count": 48,
   "metadata": {},
   "outputs": [
    {
     "name": "stdout",
     "output_type": "stream",
     "text": [
      "0.787 fall within 1 standard deviation. 0.956 within 2 and 0.985 within 3\n"
     ]
    }
   ],
   "source": [
    "print('{:.3f} fall within 1 standard deviation. ' '{:.3f} within 2 and {:.3f} within 3'.format(*pcts))"
   ]
  },
  {
   "cell_type": "markdown",
   "metadata": {},
   "source": [
    "## Improving readability of boolean indexing with the query method"
   ]
  },
  {
   "cell_type": "code",
   "execution_count": 49,
   "metadata": {},
   "outputs": [],
   "source": [
    "#The goal here is to filter the employee data for female employees from the police or fire departments that earn a salary between 80 and 120 thousand dollars\n",
    "# Read in the employee data, assign the chosen departments, and import columns to variables\n",
    "employee = pd.read_csv('data/employee.csv')"
   ]
  },
  {
   "cell_type": "code",
   "execution_count": 50,
   "metadata": {},
   "outputs": [],
   "source": [
    "depts = ['Houston Police Department-HPD', 'Houston Fire Department (HFD)']"
   ]
  },
  {
   "cell_type": "code",
   "execution_count": 51,
   "metadata": {},
   "outputs": [],
   "source": [
    "select_columns = ['UNIQUE_ID', 'DEPARTMENT',  'GENDER', 'BASE_SALARY']"
   ]
  },
  {
   "cell_type": "code",
   "execution_count": 52,
   "metadata": {},
   "outputs": [],
   "source": [
    "# Build the query string and execute the method\n",
    "qs = \"DEPARTMENT in @depts \" \"and GENDER == 'Female' \" \"and 80000 <= BASE_SALARY <= 120000\""
   ]
  },
  {
   "cell_type": "code",
   "execution_count": 53,
   "metadata": {},
   "outputs": [],
   "source": [
    "emp_filtered = employee.query(qs)"
   ]
  },
  {
   "cell_type": "code",
   "execution_count": 54,
   "metadata": {},
   "outputs": [
    {
     "data": {
      "text/html": [
       "<div>\n",
       "<style scoped>\n",
       "    .dataframe tbody tr th:only-of-type {\n",
       "        vertical-align: middle;\n",
       "    }\n",
       "\n",
       "    .dataframe tbody tr th {\n",
       "        vertical-align: top;\n",
       "    }\n",
       "\n",
       "    .dataframe thead th {\n",
       "        text-align: right;\n",
       "    }\n",
       "</style>\n",
       "<table border=\"1\" class=\"dataframe\">\n",
       "  <thead>\n",
       "    <tr style=\"text-align: right;\">\n",
       "      <th></th>\n",
       "      <th>UNIQUE_ID</th>\n",
       "      <th>DEPARTMENT</th>\n",
       "      <th>GENDER</th>\n",
       "      <th>BASE_SALARY</th>\n",
       "    </tr>\n",
       "  </thead>\n",
       "  <tbody>\n",
       "    <tr>\n",
       "      <th>61</th>\n",
       "      <td>61</td>\n",
       "      <td>Houston Fire Department (HFD)</td>\n",
       "      <td>Female</td>\n",
       "      <td>96668.0</td>\n",
       "    </tr>\n",
       "    <tr>\n",
       "      <th>136</th>\n",
       "      <td>136</td>\n",
       "      <td>Houston Police Department-HPD</td>\n",
       "      <td>Female</td>\n",
       "      <td>81239.0</td>\n",
       "    </tr>\n",
       "    <tr>\n",
       "      <th>367</th>\n",
       "      <td>367</td>\n",
       "      <td>Houston Police Department-HPD</td>\n",
       "      <td>Female</td>\n",
       "      <td>86534.0</td>\n",
       "    </tr>\n",
       "    <tr>\n",
       "      <th>474</th>\n",
       "      <td>474</td>\n",
       "      <td>Houston Police Department-HPD</td>\n",
       "      <td>Female</td>\n",
       "      <td>91181.0</td>\n",
       "    </tr>\n",
       "    <tr>\n",
       "      <th>513</th>\n",
       "      <td>513</td>\n",
       "      <td>Houston Police Department-HPD</td>\n",
       "      <td>Female</td>\n",
       "      <td>81239.0</td>\n",
       "    </tr>\n",
       "  </tbody>\n",
       "</table>\n",
       "</div>"
      ],
      "text/plain": [
       "     UNIQUE_ID                     DEPARTMENT  GENDER  BASE_SALARY\n",
       "61          61  Houston Fire Department (HFD)  Female      96668.0\n",
       "136        136  Houston Police Department-HPD  Female      81239.0\n",
       "367        367  Houston Police Department-HPD  Female      86534.0\n",
       "474        474  Houston Police Department-HPD  Female      91181.0\n",
       "513        513  Houston Police Department-HPD  Female      81239.0"
      ]
     },
     "execution_count": 54,
     "metadata": {},
     "output_type": "execute_result"
    }
   ],
   "source": [
    "emp_filtered[select_columns].head()"
   ]
  },
  {
   "cell_type": "markdown",
   "metadata": {},
   "source": [
    "## Preserving Series with the where method"
   ]
  },
  {
   "cell_type": "code",
   "execution_count": 55,
   "metadata": {},
   "outputs": [],
   "source": [
    "# Read the movie dataset, set the movie title as the index, and select all the values in the actor_1_facebook_likes column that are not missing\n",
    "movie = pd.read_csv('data/movie.csv', index_col='movie_title')"
   ]
  },
  {
   "cell_type": "code",
   "execution_count": 56,
   "metadata": {},
   "outputs": [],
   "source": [
    "fb_likes = movie['actor_1_facebook_likes'].dropna()"
   ]
  },
  {
   "cell_type": "code",
   "execution_count": 57,
   "metadata": {},
   "outputs": [
    {
     "data": {
      "text/plain": [
       "movie_title\n",
       "Avatar                                         1000.0\n",
       "Pirates of the Caribbean: At World's End      40000.0\n",
       "Spectre                                       11000.0\n",
       "The Dark Knight Rises                         27000.0\n",
       "Star Wars: Episode VII - The Force Awakens      131.0\n",
       "Name: actor_1_facebook_likes, dtype: float64"
      ]
     },
     "execution_count": 57,
     "metadata": {},
     "output_type": "execute_result"
    }
   ],
   "source": [
    "fb_likes.head()"
   ]
  },
  {
   "cell_type": "code",
   "execution_count": 58,
   "metadata": {},
   "outputs": [
    {
     "data": {
      "text/plain": [
       "count      4909\n",
       "mean       6494\n",
       "std       15106\n",
       "min           0\n",
       "10%         240\n",
       "25%         607\n",
       "50%         982\n",
       "75%       11000\n",
       "90%       18000\n",
       "max      640000\n",
       "Name: actor_1_facebook_likes, dtype: int32"
      ]
     },
     "execution_count": 58,
     "metadata": {},
     "output_type": "execute_result"
    }
   ],
   "source": [
    "#use the describe method to get a sense of the distribution\n",
    "fb_likes.describe(percentiles=[.1, .25, .5, .75, .9]) .astype(int)"
   ]
  },
  {
   "cell_type": "code",
   "execution_count": 60,
   "metadata": {},
   "outputs": [
    {
     "data": {
      "text/plain": [
       "<matplotlib.axes._subplots.AxesSubplot at 0x2ce88ba87f0>"
      ]
     },
     "execution_count": 60,
     "metadata": {},
     "output_type": "execute_result"
    },
    {
     "data": {
      "image/png": "[encoded data removed]",
      "text/plain": [
       "<Figure size 432x288 with 1 Axes>"
      ]
     },
     "metadata": {
      "needs_background": "light"
     },
     "output_type": "display_data"
    }
   ],
   "source": [
    "#  plot a histogram of this Series to visually inspect the distribution\n",
    "fb_likes.hist()"
   ]
  },
  {
   "cell_type": "code",
   "execution_count": 61,
   "metadata": {},
   "outputs": [],
   "source": [
    "# Create criteria to test whether the number of likes is less than 20,000\n",
    "criteria_high = fb_likes < 20000"
   ]
  },
  {
   "cell_type": "code",
   "execution_count": 62,
   "metadata": {},
   "outputs": [
    {
     "data": {
      "text/plain": [
       "0.91"
      ]
     },
     "execution_count": 62,
     "metadata": {},
     "output_type": "execute_result"
    }
   ],
   "source": [
    "criteria_high.mean().round(2)"
   ]
  },
  {
   "cell_type": "code",
   "execution_count": 63,
   "metadata": {},
   "outputs": [
    {
     "data": {
      "text/plain": [
       "movie_title\n",
       "Avatar                                         1000.0\n",
       "Pirates of the Caribbean: At World's End          NaN\n",
       "Spectre                                       11000.0\n",
       "The Dark Knight Rises                             NaN\n",
       "Star Wars: Episode VII - The Force Awakens      131.0\n",
       "Name: actor_1_facebook_likes, dtype: float64"
      ]
     },
     "execution_count": 63,
     "metadata": {},
     "output_type": "execute_result"
    }
   ],
   "source": [
    "# use the where method, which accepts a boolean condition. \n",
    "#The default behavior is to return a Series the same size as the original but which has all the False locations replaced with a missing value\n",
    "fb_likes.where(criteria_high).head()"
   ]
  },
  {
   "cell_type": "code",
   "execution_count": 64,
   "metadata": {},
   "outputs": [
    {
     "data": {
      "text/plain": [
       "movie_title\n",
       "Avatar                                         1000.0\n",
       "Pirates of the Caribbean: At World's End      20000.0\n",
       "Spectre                                       11000.0\n",
       "The Dark Knight Rises                         20000.0\n",
       "Star Wars: Episode VII - The Force Awakens      131.0\n",
       "Name: actor_1_facebook_likes, dtype: float64"
      ]
     },
     "execution_count": 64,
     "metadata": {},
     "output_type": "execute_result"
    }
   ],
   "source": [
    "# The second parameter to the where method, other, allows you to control the replacement value. Let's change all the missing values to 20,000\n",
    "fb_likes.where(criteria_high, other=20000).head()"
   ]
  },
  {
   "cell_type": "code",
   "execution_count": 65,
   "metadata": {},
   "outputs": [],
   "source": [
    "# Create criteria to put a floor on the minimum number of likes.\n",
    "# chain another where method and replace the values not meeting with the condition to 300\n",
    "criteria_low = fb_likes > 300"
   ]
  },
  {
   "cell_type": "code",
   "execution_count": 66,
   "metadata": {},
   "outputs": [],
   "source": [
    "fb_likes_cap = fb_likes.where(criteria_high, other=20000) .where(criteria_low, 300)"
   ]
  },
  {
   "cell_type": "code",
   "execution_count": 67,
   "metadata": {},
   "outputs": [
    {
     "data": {
      "text/plain": [
       "movie_title\n",
       "Avatar                                         1000.0\n",
       "Pirates of the Caribbean: At World's End      20000.0\n",
       "Spectre                                       11000.0\n",
       "The Dark Knight Rises                         20000.0\n",
       "Star Wars: Episode VII - The Force Awakens      300.0\n",
       "Name: actor_1_facebook_likes, dtype: float64"
      ]
     },
     "execution_count": 67,
     "metadata": {},
     "output_type": "execute_result"
    }
   ],
   "source": [
    "fb_likes_cap.head()"
   ]
  },
  {
   "cell_type": "code",
   "execution_count": 68,
   "metadata": {},
   "outputs": [
    {
     "data": {
      "text/plain": [
       "(4909, 4909)"
      ]
     },
     "execution_count": 68,
     "metadata": {},
     "output_type": "execute_result"
    }
   ],
   "source": [
    "# The length of the original Series and modified Series is the same\n",
    "len(fb_likes), len(fb_likes_cap)"
   ]
  },
  {
   "cell_type": "code",
   "execution_count": 69,
   "metadata": {},
   "outputs": [
    {
     "data": {
      "text/plain": [
       "<matplotlib.axes._subplots.AxesSubplot at 0x2ce88be82b0>"
      ]
     },
     "execution_count": 69,
     "metadata": {},
     "output_type": "execute_result"
    },
    {
     "data": {
      "image/png": "[encoded data removed]",
      "text/plain": [
       "<Figure size 432x288 with 1 Axes>"
      ]
     },
     "metadata": {
      "needs_background": "light"
     },
     "output_type": "display_data"
    }
   ],
   "source": [
    "#  make a histogram with the modified Series. \n",
    "#With the data in a much tighter range, it should produce a better plot\n",
    "fb_likes_cap.hist()"
   ]
  },
  {
   "cell_type": "markdown",
   "metadata": {},
   "source": [
    "## Masking DataFrame rows"
   ]
  },
  {
   "cell_type": "code",
   "execution_count": 70,
   "metadata": {},
   "outputs": [],
   "source": [
    "# Read the movie dataset, set the movie title as the index, and create the criteria\n",
    "movie = pd.read_csv('data/movie.csv', index_col='movie_title')"
   ]
  },
  {
   "cell_type": "code",
   "execution_count": 71,
   "metadata": {},
   "outputs": [],
   "source": [
    "c1 = movie['title_year'] >= 2010"
   ]
  },
  {
   "cell_type": "code",
   "execution_count": 72,
   "metadata": {},
   "outputs": [],
   "source": [
    "c2 = movie['title_year'].isnull()"
   ]
  },
  {
   "cell_type": "code",
   "execution_count": 73,
   "metadata": {},
   "outputs": [],
   "source": [
    "criteria = c1 | c2"
   ]
  },
  {
   "cell_type": "code",
   "execution_count": 74,
   "metadata": {},
   "outputs": [
    {
     "data": {
      "text/html": [
       "<div>\n",
       "<style scoped>\n",
       "    .dataframe tbody tr th:only-of-type {\n",
       "        vertical-align: middle;\n",
       "    }\n",
       "\n",
       "    .dataframe tbody tr th {\n",
       "        vertical-align: top;\n",
       "    }\n",
       "\n",
       "    .dataframe thead th {\n",
       "        text-align: right;\n",
       "    }\n",
       "</style>\n",
       "<table border=\"1\" class=\"dataframe\">\n",
       "  <thead>\n",
       "    <tr style=\"text-align: right;\">\n",
       "      <th></th>\n",
       "      <th>color</th>\n",
       "      <th>director_name</th>\n",
       "      <th>num_critic_for_reviews</th>\n",
       "      <th>duration</th>\n",
       "      <th>director_facebook_likes</th>\n",
       "      <th>actor_3_facebook_likes</th>\n",
       "      <th>actor_2_name</th>\n",
       "      <th>actor_1_facebook_likes</th>\n",
       "      <th>gross</th>\n",
       "      <th>genres</th>\n",
       "      <th>...</th>\n",
       "      <th>num_user_for_reviews</th>\n",
       "      <th>language</th>\n",
       "      <th>country</th>\n",
       "      <th>content_rating</th>\n",
       "      <th>budget</th>\n",
       "      <th>title_year</th>\n",
       "      <th>actor_2_facebook_likes</th>\n",
       "      <th>imdb_score</th>\n",
       "      <th>aspect_ratio</th>\n",
       "      <th>movie_facebook_likes</th>\n",
       "    </tr>\n",
       "    <tr>\n",
       "      <th>movie_title</th>\n",
       "      <th></th>\n",
       "      <th></th>\n",
       "      <th></th>\n",
       "      <th></th>\n",
       "      <th></th>\n",
       "      <th></th>\n",
       "      <th></th>\n",
       "      <th></th>\n",
       "      <th></th>\n",
       "      <th></th>\n",
       "      <th></th>\n",
       "      <th></th>\n",
       "      <th></th>\n",
       "      <th></th>\n",
       "      <th></th>\n",
       "      <th></th>\n",
       "      <th></th>\n",
       "      <th></th>\n",
       "      <th></th>\n",
       "      <th></th>\n",
       "      <th></th>\n",
       "    </tr>\n",
       "  </thead>\n",
       "  <tbody>\n",
       "    <tr>\n",
       "      <th>Avatar</th>\n",
       "      <td>Color</td>\n",
       "      <td>James Cameron</td>\n",
       "      <td>723.0</td>\n",
       "      <td>178.0</td>\n",
       "      <td>0.0</td>\n",
       "      <td>855.0</td>\n",
       "      <td>Joel David Moore</td>\n",
       "      <td>1000.0</td>\n",
       "      <td>760505847.0</td>\n",
       "      <td>Action|Adventure|Fantasy|Sci-Fi</td>\n",
       "      <td>...</td>\n",
       "      <td>3054.0</td>\n",
       "      <td>English</td>\n",
       "      <td>USA</td>\n",
       "      <td>PG-13</td>\n",
       "      <td>237000000.0</td>\n",
       "      <td>2009.0</td>\n",
       "      <td>936.0</td>\n",
       "      <td>7.9</td>\n",
       "      <td>1.78</td>\n",
       "      <td>33000.0</td>\n",
       "    </tr>\n",
       "    <tr>\n",
       "      <th>Pirates of the Caribbean: At World's End</th>\n",
       "      <td>Color</td>\n",
       "      <td>Gore Verbinski</td>\n",
       "      <td>302.0</td>\n",
       "      <td>169.0</td>\n",
       "      <td>563.0</td>\n",
       "      <td>1000.0</td>\n",
       "      <td>Orlando Bloom</td>\n",
       "      <td>40000.0</td>\n",
       "      <td>309404152.0</td>\n",
       "      <td>Action|Adventure|Fantasy</td>\n",
       "      <td>...</td>\n",
       "      <td>1238.0</td>\n",
       "      <td>English</td>\n",
       "      <td>USA</td>\n",
       "      <td>PG-13</td>\n",
       "      <td>300000000.0</td>\n",
       "      <td>2007.0</td>\n",
       "      <td>5000.0</td>\n",
       "      <td>7.1</td>\n",
       "      <td>2.35</td>\n",
       "      <td>0.0</td>\n",
       "    </tr>\n",
       "    <tr>\n",
       "      <th>Spectre</th>\n",
       "      <td>NaN</td>\n",
       "      <td>NaN</td>\n",
       "      <td>NaN</td>\n",
       "      <td>NaN</td>\n",
       "      <td>NaN</td>\n",
       "      <td>NaN</td>\n",
       "      <td>NaN</td>\n",
       "      <td>NaN</td>\n",
       "      <td>NaN</td>\n",
       "      <td>NaN</td>\n",
       "      <td>...</td>\n",
       "      <td>NaN</td>\n",
       "      <td>NaN</td>\n",
       "      <td>NaN</td>\n",
       "      <td>NaN</td>\n",
       "      <td>NaN</td>\n",
       "      <td>NaN</td>\n",
       "      <td>NaN</td>\n",
       "      <td>NaN</td>\n",
       "      <td>NaN</td>\n",
       "      <td>NaN</td>\n",
       "    </tr>\n",
       "    <tr>\n",
       "      <th>The Dark Knight Rises</th>\n",
       "      <td>NaN</td>\n",
       "      <td>NaN</td>\n",
       "      <td>NaN</td>\n",
       "      <td>NaN</td>\n",
       "      <td>NaN</td>\n",
       "      <td>NaN</td>\n",
       "      <td>NaN</td>\n",
       "      <td>NaN</td>\n",
       "      <td>NaN</td>\n",
       "      <td>NaN</td>\n",
       "      <td>...</td>\n",
       "      <td>NaN</td>\n",
       "      <td>NaN</td>\n",
       "      <td>NaN</td>\n",
       "      <td>NaN</td>\n",
       "      <td>NaN</td>\n",
       "      <td>NaN</td>\n",
       "      <td>NaN</td>\n",
       "      <td>NaN</td>\n",
       "      <td>NaN</td>\n",
       "      <td>NaN</td>\n",
       "    </tr>\n",
       "    <tr>\n",
       "      <th>Star Wars: Episode VII - The Force Awakens</th>\n",
       "      <td>NaN</td>\n",
       "      <td>NaN</td>\n",
       "      <td>NaN</td>\n",
       "      <td>NaN</td>\n",
       "      <td>NaN</td>\n",
       "      <td>NaN</td>\n",
       "      <td>NaN</td>\n",
       "      <td>NaN</td>\n",
       "      <td>NaN</td>\n",
       "      <td>NaN</td>\n",
       "      <td>...</td>\n",
       "      <td>NaN</td>\n",
       "      <td>NaN</td>\n",
       "      <td>NaN</td>\n",
       "      <td>NaN</td>\n",
       "      <td>NaN</td>\n",
       "      <td>NaN</td>\n",
       "      <td>NaN</td>\n",
       "      <td>NaN</td>\n",
       "      <td>NaN</td>\n",
       "      <td>NaN</td>\n",
       "    </tr>\n",
       "  </tbody>\n",
       "</table>\n",
       "<p>5 rows × 27 columns</p>\n",
       "</div>"
      ],
      "text/plain": [
       "                                            color   director_name  \\\n",
       "movie_title                                                         \n",
       "Avatar                                      Color   James Cameron   \n",
       "Pirates of the Caribbean: At World's End    Color  Gore Verbinski   \n",
       "Spectre                                       NaN             NaN   \n",
       "The Dark Knight Rises                         NaN             NaN   \n",
       "Star Wars: Episode VII - The Force Awakens    NaN             NaN   \n",
       "\n",
       "                                            num_critic_for_reviews  duration  \\\n",
       "movie_title                                                                    \n",
       "Avatar                                                       723.0     178.0   \n",
       "Pirates of the Caribbean: At World's End                     302.0     169.0   \n",
       "Spectre                                                        NaN       NaN   \n",
       "The Dark Knight Rises                                          NaN       NaN   \n",
       "Star Wars: Episode VII - The Force Awakens                     NaN       NaN   \n",
       "\n",
       "                                            director_facebook_likes  \\\n",
       "movie_title                                                           \n",
       "Avatar                                                          0.0   \n",
       "Pirates of the Caribbean: At World's End                      563.0   \n",
       "Spectre                                                         NaN   \n",
       "The Dark Knight Rises                                           NaN   \n",
       "Star Wars: Episode VII - The Force Awakens                      NaN   \n",
       "\n",
       "                                            actor_3_facebook_likes  \\\n",
       "movie_title                                                          \n",
       "Avatar                                                       855.0   \n",
       "Pirates of the Caribbean: At World's End                    1000.0   \n",
       "Spectre                                                        NaN   \n",
       "The Dark Knight Rises                                          NaN   \n",
       "Star Wars: Episode VII - The Force Awakens                     NaN   \n",
       "\n",
       "                                                actor_2_name  \\\n",
       "movie_title                                                    \n",
       "Avatar                                      Joel David Moore   \n",
       "Pirates of the Caribbean: At World's End       Orlando Bloom   \n",
       "Spectre                                                  NaN   \n",
       "The Dark Knight Rises                                    NaN   \n",
       "Star Wars: Episode VII - The Force Awakens               NaN   \n",
       "\n",
       "                                            actor_1_facebook_likes  \\\n",
       "movie_title                                                          \n",
       "Avatar                                                      1000.0   \n",
       "Pirates of the Caribbean: At World's End                   40000.0   \n",
       "Spectre                                                        NaN   \n",
       "The Dark Knight Rises                                          NaN   \n",
       "Star Wars: Episode VII - The Force Awakens                     NaN   \n",
       "\n",
       "                                                  gross  \\\n",
       "movie_title                                               \n",
       "Avatar                                      760505847.0   \n",
       "Pirates of the Caribbean: At World's End    309404152.0   \n",
       "Spectre                                             NaN   \n",
       "The Dark Knight Rises                               NaN   \n",
       "Star Wars: Episode VII - The Force Awakens          NaN   \n",
       "\n",
       "                                                                     genres  \\\n",
       "movie_title                                                                   \n",
       "Avatar                                      Action|Adventure|Fantasy|Sci-Fi   \n",
       "Pirates of the Caribbean: At World's End           Action|Adventure|Fantasy   \n",
       "Spectre                                                                 NaN   \n",
       "The Dark Knight Rises                                                   NaN   \n",
       "Star Wars: Episode VII - The Force Awakens                              NaN   \n",
       "\n",
       "                                                   ...           \\\n",
       "movie_title                                        ...            \n",
       "Avatar                                             ...            \n",
       "Pirates of the Caribbean: At World's End           ...            \n",
       "Spectre                                            ...            \n",
       "The Dark Knight Rises                              ...            \n",
       "Star Wars: Episode VII - The Force Awakens         ...            \n",
       "\n",
       "                                           num_user_for_reviews  language  \\\n",
       "movie_title                                                                 \n",
       "Avatar                                                   3054.0   English   \n",
       "Pirates of the Caribbean: At World's End                 1238.0   English   \n",
       "Spectre                                                     NaN       NaN   \n",
       "The Dark Knight Rises                                       NaN       NaN   \n",
       "Star Wars: Episode VII - The Force Awakens                  NaN       NaN   \n",
       "\n",
       "                                            country content_rating  \\\n",
       "movie_title                                                          \n",
       "Avatar                                          USA          PG-13   \n",
       "Pirates of the Caribbean: At World's End        USA          PG-13   \n",
       "Spectre                                         NaN            NaN   \n",
       "The Dark Knight Rises                           NaN            NaN   \n",
       "Star Wars: Episode VII - The Force Awakens      NaN            NaN   \n",
       "\n",
       "                                                 budget title_year  \\\n",
       "movie_title                                                          \n",
       "Avatar                                      237000000.0     2009.0   \n",
       "Pirates of the Caribbean: At World's End    300000000.0     2007.0   \n",
       "Spectre                                             NaN        NaN   \n",
       "The Dark Knight Rises                               NaN        NaN   \n",
       "Star Wars: Episode VII - The Force Awakens          NaN        NaN   \n",
       "\n",
       "                                           actor_2_facebook_likes  imdb_score  \\\n",
       "movie_title                                                                     \n",
       "Avatar                                                      936.0         7.9   \n",
       "Pirates of the Caribbean: At World's End                   5000.0         7.1   \n",
       "Spectre                                                       NaN         NaN   \n",
       "The Dark Knight Rises                                         NaN         NaN   \n",
       "Star Wars: Episode VII - The Force Awakens                    NaN         NaN   \n",
       "\n",
       "                                           aspect_ratio movie_facebook_likes  \n",
       "movie_title                                                                   \n",
       "Avatar                                             1.78              33000.0  \n",
       "Pirates of the Caribbean: At World's End           2.35                  0.0  \n",
       "Spectre                                             NaN                  NaN  \n",
       "The Dark Knight Rises                               NaN                  NaN  \n",
       "Star Wars: Episode VII - The Force Awakens          NaN                  NaN  \n",
       "\n",
       "[5 rows x 27 columns]"
      ]
     },
     "execution_count": 74,
     "metadata": {},
     "output_type": "execute_result"
    }
   ],
   "source": [
    "# Use the mask method on a DataFrame to make all the values in rows with movies that were made from 2010 onward missing\n",
    "movie.mask(criteria).head()"
   ]
  },
  {
   "cell_type": "code",
   "execution_count": 75,
   "metadata": {},
   "outputs": [],
   "source": [
    "# Chain the dropna method to remove rows that have all values missing\n",
    "movie_mask = movie.mask(criteria).dropna(how='all')"
   ]
  },
  {
   "cell_type": "code",
   "execution_count": 76,
   "metadata": {},
   "outputs": [
    {
     "data": {
      "text/html": [
       "<div>\n",
       "<style scoped>\n",
       "    .dataframe tbody tr th:only-of-type {\n",
       "        vertical-align: middle;\n",
       "    }\n",
       "\n",
       "    .dataframe tbody tr th {\n",
       "        vertical-align: top;\n",
       "    }\n",
       "\n",
       "    .dataframe thead th {\n",
       "        text-align: right;\n",
       "    }\n",
       "</style>\n",
       "<table border=\"1\" class=\"dataframe\">\n",
       "  <thead>\n",
       "    <tr style=\"text-align: right;\">\n",
       "      <th></th>\n",
       "      <th>color</th>\n",
       "      <th>director_name</th>\n",
       "      <th>num_critic_for_reviews</th>\n",
       "      <th>duration</th>\n",
       "      <th>director_facebook_likes</th>\n",
       "      <th>actor_3_facebook_likes</th>\n",
       "      <th>actor_2_name</th>\n",
       "      <th>actor_1_facebook_likes</th>\n",
       "      <th>gross</th>\n",
       "      <th>genres</th>\n",
       "      <th>...</th>\n",
       "      <th>num_user_for_reviews</th>\n",
       "      <th>language</th>\n",
       "      <th>country</th>\n",
       "      <th>content_rating</th>\n",
       "      <th>budget</th>\n",
       "      <th>title_year</th>\n",
       "      <th>actor_2_facebook_likes</th>\n",
       "      <th>imdb_score</th>\n",
       "      <th>aspect_ratio</th>\n",
       "      <th>movie_facebook_likes</th>\n",
       "    </tr>\n",
       "    <tr>\n",
       "      <th>movie_title</th>\n",
       "      <th></th>\n",
       "      <th></th>\n",
       "      <th></th>\n",
       "      <th></th>\n",
       "      <th></th>\n",
       "      <th></th>\n",
       "      <th></th>\n",
       "      <th></th>\n",
       "      <th></th>\n",
       "      <th></th>\n",
       "      <th></th>\n",
       "      <th></th>\n",
       "      <th></th>\n",
       "      <th></th>\n",
       "      <th></th>\n",
       "      <th></th>\n",
       "      <th></th>\n",
       "      <th></th>\n",
       "      <th></th>\n",
       "      <th></th>\n",
       "      <th></th>\n",
       "    </tr>\n",
       "  </thead>\n",
       "  <tbody>\n",
       "    <tr>\n",
       "      <th>Avatar</th>\n",
       "      <td>Color</td>\n",
       "      <td>James Cameron</td>\n",
       "      <td>723.0</td>\n",
       "      <td>178.0</td>\n",
       "      <td>0.0</td>\n",
       "      <td>855.0</td>\n",
       "      <td>Joel David Moore</td>\n",
       "      <td>1000.0</td>\n",
       "      <td>760505847.0</td>\n",
       "      <td>Action|Adventure|Fantasy|Sci-Fi</td>\n",
       "      <td>...</td>\n",
       "      <td>3054.0</td>\n",
       "      <td>English</td>\n",
       "      <td>USA</td>\n",
       "      <td>PG-13</td>\n",
       "      <td>237000000.0</td>\n",
       "      <td>2009.0</td>\n",
       "      <td>936.0</td>\n",
       "      <td>7.9</td>\n",
       "      <td>1.78</td>\n",
       "      <td>33000.0</td>\n",
       "    </tr>\n",
       "    <tr>\n",
       "      <th>Pirates of the Caribbean: At World's End</th>\n",
       "      <td>Color</td>\n",
       "      <td>Gore Verbinski</td>\n",
       "      <td>302.0</td>\n",
       "      <td>169.0</td>\n",
       "      <td>563.0</td>\n",
       "      <td>1000.0</td>\n",
       "      <td>Orlando Bloom</td>\n",
       "      <td>40000.0</td>\n",
       "      <td>309404152.0</td>\n",
       "      <td>Action|Adventure|Fantasy</td>\n",
       "      <td>...</td>\n",
       "      <td>1238.0</td>\n",
       "      <td>English</td>\n",
       "      <td>USA</td>\n",
       "      <td>PG-13</td>\n",
       "      <td>300000000.0</td>\n",
       "      <td>2007.0</td>\n",
       "      <td>5000.0</td>\n",
       "      <td>7.1</td>\n",
       "      <td>2.35</td>\n",
       "      <td>0.0</td>\n",
       "    </tr>\n",
       "    <tr>\n",
       "      <th>Spider-Man 3</th>\n",
       "      <td>Color</td>\n",
       "      <td>Sam Raimi</td>\n",
       "      <td>392.0</td>\n",
       "      <td>156.0</td>\n",
       "      <td>0.0</td>\n",
       "      <td>4000.0</td>\n",
       "      <td>James Franco</td>\n",
       "      <td>24000.0</td>\n",
       "      <td>336530303.0</td>\n",
       "      <td>Action|Adventure|Romance</td>\n",
       "      <td>...</td>\n",
       "      <td>1902.0</td>\n",
       "      <td>English</td>\n",
       "      <td>USA</td>\n",
       "      <td>PG-13</td>\n",
       "      <td>258000000.0</td>\n",
       "      <td>2007.0</td>\n",
       "      <td>11000.0</td>\n",
       "      <td>6.2</td>\n",
       "      <td>2.35</td>\n",
       "      <td>0.0</td>\n",
       "    </tr>\n",
       "    <tr>\n",
       "      <th>Harry Potter and the Half-Blood Prince</th>\n",
       "      <td>Color</td>\n",
       "      <td>David Yates</td>\n",
       "      <td>375.0</td>\n",
       "      <td>153.0</td>\n",
       "      <td>282.0</td>\n",
       "      <td>10000.0</td>\n",
       "      <td>Daniel Radcliffe</td>\n",
       "      <td>25000.0</td>\n",
       "      <td>301956980.0</td>\n",
       "      <td>Adventure|Family|Fantasy|Mystery</td>\n",
       "      <td>...</td>\n",
       "      <td>973.0</td>\n",
       "      <td>English</td>\n",
       "      <td>UK</td>\n",
       "      <td>PG</td>\n",
       "      <td>250000000.0</td>\n",
       "      <td>2009.0</td>\n",
       "      <td>11000.0</td>\n",
       "      <td>7.5</td>\n",
       "      <td>2.35</td>\n",
       "      <td>10000.0</td>\n",
       "    </tr>\n",
       "    <tr>\n",
       "      <th>Superman Returns</th>\n",
       "      <td>Color</td>\n",
       "      <td>Bryan Singer</td>\n",
       "      <td>434.0</td>\n",
       "      <td>169.0</td>\n",
       "      <td>0.0</td>\n",
       "      <td>903.0</td>\n",
       "      <td>Marlon Brando</td>\n",
       "      <td>18000.0</td>\n",
       "      <td>200069408.0</td>\n",
       "      <td>Action|Adventure|Sci-Fi</td>\n",
       "      <td>...</td>\n",
       "      <td>2367.0</td>\n",
       "      <td>English</td>\n",
       "      <td>USA</td>\n",
       "      <td>PG-13</td>\n",
       "      <td>209000000.0</td>\n",
       "      <td>2006.0</td>\n",
       "      <td>10000.0</td>\n",
       "      <td>6.1</td>\n",
       "      <td>2.35</td>\n",
       "      <td>0.0</td>\n",
       "    </tr>\n",
       "  </tbody>\n",
       "</table>\n",
       "<p>5 rows × 27 columns</p>\n",
       "</div>"
      ],
      "text/plain": [
       "                                          color   director_name  \\\n",
       "movie_title                                                       \n",
       "Avatar                                    Color   James Cameron   \n",
       "Pirates of the Caribbean: At World's End  Color  Gore Verbinski   \n",
       "Spider-Man 3                              Color       Sam Raimi   \n",
       "Harry Potter and the Half-Blood Prince    Color     David Yates   \n",
       "Superman Returns                          Color    Bryan Singer   \n",
       "\n",
       "                                          num_critic_for_reviews  duration  \\\n",
       "movie_title                                                                  \n",
       "Avatar                                                     723.0     178.0   \n",
       "Pirates of the Caribbean: At World's End                   302.0     169.0   \n",
       "Spider-Man 3                                               392.0     156.0   \n",
       "Harry Potter and the Half-Blood Prince                     375.0     153.0   \n",
       "Superman Returns                                           434.0     169.0   \n",
       "\n",
       "                                          director_facebook_likes  \\\n",
       "movie_title                                                         \n",
       "Avatar                                                        0.0   \n",
       "Pirates of the Caribbean: At World's End                    563.0   \n",
       "Spider-Man 3                                                  0.0   \n",
       "Harry Potter and the Half-Blood Prince                      282.0   \n",
       "Superman Returns                                              0.0   \n",
       "\n",
       "                                          actor_3_facebook_likes  \\\n",
       "movie_title                                                        \n",
       "Avatar                                                     855.0   \n",
       "Pirates of the Caribbean: At World's End                  1000.0   \n",
       "Spider-Man 3                                              4000.0   \n",
       "Harry Potter and the Half-Blood Prince                   10000.0   \n",
       "Superman Returns                                           903.0   \n",
       "\n",
       "                                              actor_2_name  \\\n",
       "movie_title                                                  \n",
       "Avatar                                    Joel David Moore   \n",
       "Pirates of the Caribbean: At World's End     Orlando Bloom   \n",
       "Spider-Man 3                                  James Franco   \n",
       "Harry Potter and the Half-Blood Prince    Daniel Radcliffe   \n",
       "Superman Returns                             Marlon Brando   \n",
       "\n",
       "                                          actor_1_facebook_likes        gross  \\\n",
       "movie_title                                                                     \n",
       "Avatar                                                    1000.0  760505847.0   \n",
       "Pirates of the Caribbean: At World's End                 40000.0  309404152.0   \n",
       "Spider-Man 3                                             24000.0  336530303.0   \n",
       "Harry Potter and the Half-Blood Prince                   25000.0  301956980.0   \n",
       "Superman Returns                                         18000.0  200069408.0   \n",
       "\n",
       "                                                                    genres  \\\n",
       "movie_title                                                                  \n",
       "Avatar                                     Action|Adventure|Fantasy|Sci-Fi   \n",
       "Pirates of the Caribbean: At World's End          Action|Adventure|Fantasy   \n",
       "Spider-Man 3                                      Action|Adventure|Romance   \n",
       "Harry Potter and the Half-Blood Prince    Adventure|Family|Fantasy|Mystery   \n",
       "Superman Returns                                   Action|Adventure|Sci-Fi   \n",
       "\n",
       "                                                 ...           \\\n",
       "movie_title                                      ...            \n",
       "Avatar                                           ...            \n",
       "Pirates of the Caribbean: At World's End         ...            \n",
       "Spider-Man 3                                     ...            \n",
       "Harry Potter and the Half-Blood Prince           ...            \n",
       "Superman Returns                                 ...            \n",
       "\n",
       "                                         num_user_for_reviews  language  \\\n",
       "movie_title                                                               \n",
       "Avatar                                                 3054.0   English   \n",
       "Pirates of the Caribbean: At World's End               1238.0   English   \n",
       "Spider-Man 3                                           1902.0   English   \n",
       "Harry Potter and the Half-Blood Prince                  973.0   English   \n",
       "Superman Returns                                       2367.0   English   \n",
       "\n",
       "                                          country content_rating       budget  \\\n",
       "movie_title                                                                     \n",
       "Avatar                                        USA          PG-13  237000000.0   \n",
       "Pirates of the Caribbean: At World's End      USA          PG-13  300000000.0   \n",
       "Spider-Man 3                                  USA          PG-13  258000000.0   \n",
       "Harry Potter and the Half-Blood Prince         UK             PG  250000000.0   \n",
       "Superman Returns                              USA          PG-13  209000000.0   \n",
       "\n",
       "                                         title_year actor_2_facebook_likes  \\\n",
       "movie_title                                                                  \n",
       "Avatar                                       2009.0                  936.0   \n",
       "Pirates of the Caribbean: At World's End     2007.0                 5000.0   \n",
       "Spider-Man 3                                 2007.0                11000.0   \n",
       "Harry Potter and the Half-Blood Prince       2009.0                11000.0   \n",
       "Superman Returns                             2006.0                10000.0   \n",
       "\n",
       "                                          imdb_score aspect_ratio  \\\n",
       "movie_title                                                         \n",
       "Avatar                                           7.9         1.78   \n",
       "Pirates of the Caribbean: At World's End         7.1         2.35   \n",
       "Spider-Man 3                                     6.2         2.35   \n",
       "Harry Potter and the Half-Blood Prince           7.5         2.35   \n",
       "Superman Returns                                 6.1         2.35   \n",
       "\n",
       "                                         movie_facebook_likes  \n",
       "movie_title                                                    \n",
       "Avatar                                                33000.0  \n",
       "Pirates of the Caribbean: At World's End                  0.0  \n",
       "Spider-Man 3                                              0.0  \n",
       "Harry Potter and the Half-Blood Prince                10000.0  \n",
       "Superman Returns                                          0.0  \n",
       "\n",
       "[5 rows x 27 columns]"
      ]
     },
     "execution_count": 76,
     "metadata": {},
     "output_type": "execute_result"
    }
   ],
   "source": [
    "movie_mask.head()"
   ]
  },
  {
   "cell_type": "code",
   "execution_count": 77,
   "metadata": {},
   "outputs": [],
   "source": [
    "# check whether the two methods produce the same DataFrame\n",
    "movie_boolean = movie[movie['title_year'] < 2010]"
   ]
  },
  {
   "cell_type": "code",
   "execution_count": 78,
   "metadata": {},
   "outputs": [
    {
     "data": {
      "text/plain": [
       "False"
      ]
     },
     "execution_count": 78,
     "metadata": {},
     "output_type": "execute_result"
    }
   ],
   "source": [
    "movie_mask.equals(movie_boolean)"
   ]
  },
  {
   "cell_type": "code",
   "execution_count": 79,
   "metadata": {},
   "outputs": [
    {
     "data": {
      "text/plain": [
       "True"
      ]
     },
     "execution_count": 79,
     "metadata": {},
     "output_type": "execute_result"
    }
   ],
   "source": [
    "# The equals method is telling us that they aren't equal.\n",
    "# Do some sanity checking and see if they are the same shape\n",
    "movie_mask.shape == movie_boolean.shape"
   ]
  },
  {
   "cell_type": "code",
   "execution_count": 81,
   "metadata": {},
   "outputs": [
    {
     "data": {
      "text/plain": [
       "color                         True\n",
       "director_name                 True\n",
       "num_critic_for_reviews        True\n",
       "duration                      True\n",
       "director_facebook_likes       True\n",
       "actor_3_facebook_likes        True\n",
       "actor_2_name                  True\n",
       "actor_1_facebook_likes        True\n",
       "gross                         True\n",
       "genres                        True\n",
       "actor_1_name                  True\n",
       "num_voted_users              False\n",
       "cast_total_facebook_likes    False\n",
       "actor_3_name                  True\n",
       "facenumber_in_poster          True\n",
       "plot_keywords                 True\n",
       "movie_imdb_link               True\n",
       "num_user_for_reviews          True\n",
       "language                      True\n",
       "country                       True\n",
       "content_rating                True\n",
       "budget                        True\n",
       "title_year                    True\n",
       "actor_2_facebook_likes        True\n",
       "imdb_score                    True\n",
       "aspect_ratio                  True\n",
       "movie_facebook_likes         False\n",
       "dtype: bool"
      ]
     },
     "execution_count": 81,
     "metadata": {},
     "output_type": "execute_result"
    }
   ],
   "source": [
    "#  Let's check the equality of the data types to see whether the equals method returns False if the data types of the columns are different, even if the values are the same\n",
    "movie_mask.dtypes == movie_boolean.dtypes"
   ]
  },
  {
   "cell_type": "code",
   "execution_count": 82,
   "metadata": {},
   "outputs": [],
   "source": [
    "# Pandas has a testing module, which primarily is a function, assert_frame_equal, that allows you to\n",
    "# check the equality of Series and DataFrames without also checking the equality of the data types\n",
    "from pandas.testing import assert_frame_equal"
   ]
  },
  {
   "cell_type": "code",
   "execution_count": 83,
   "metadata": {},
   "outputs": [],
   "source": [
    "assert_frame_equal(movie_boolean, movie_mask, check_dtype=False)"
   ]
  },
  {
   "cell_type": "markdown",
   "metadata": {},
   "source": [
    "## Selecting with booleans, integer location, and labels"
   ]
  },
  {
   "cell_type": "code",
   "execution_count": 85,
   "metadata": {},
   "outputs": [],
   "source": [
    "# Read in the movie dataset, set the index as the title, and then create a boolean Series matching all movies with a content rating of G and an IMDB score less than 4\n",
    "movie = pd.read_csv('data/movie.csv', index_col='movie_title')"
   ]
  },
  {
   "cell_type": "code",
   "execution_count": 86,
   "metadata": {},
   "outputs": [],
   "source": [
    "c1 = movie['content_rating'] == 'G'"
   ]
  },
  {
   "cell_type": "code",
   "execution_count": 87,
   "metadata": {},
   "outputs": [],
   "source": [
    "c2 = movie['imdb_score'] < 4"
   ]
  },
  {
   "cell_type": "code",
   "execution_count": 88,
   "metadata": {},
   "outputs": [],
   "source": [
    "criteria = c1 & c2"
   ]
  },
  {
   "cell_type": "code",
   "execution_count": 89,
   "metadata": {},
   "outputs": [],
   "source": [
    "# pass these criteria to the .loc indexer to filter the rows\n",
    "movie_loc = movie.loc[criteria]"
   ]
  },
  {
   "cell_type": "code",
   "execution_count": 90,
   "metadata": {},
   "outputs": [
    {
     "data": {
      "text/html": [
       "<div>\n",
       "<style scoped>\n",
       "    .dataframe tbody tr th:only-of-type {\n",
       "        vertical-align: middle;\n",
       "    }\n",
       "\n",
       "    .dataframe tbody tr th {\n",
       "        vertical-align: top;\n",
       "    }\n",
       "\n",
       "    .dataframe thead th {\n",
       "        text-align: right;\n",
       "    }\n",
       "</style>\n",
       "<table border=\"1\" class=\"dataframe\">\n",
       "  <thead>\n",
       "    <tr style=\"text-align: right;\">\n",
       "      <th></th>\n",
       "      <th>color</th>\n",
       "      <th>director_name</th>\n",
       "      <th>num_critic_for_reviews</th>\n",
       "      <th>duration</th>\n",
       "      <th>director_facebook_likes</th>\n",
       "      <th>actor_3_facebook_likes</th>\n",
       "      <th>actor_2_name</th>\n",
       "      <th>actor_1_facebook_likes</th>\n",
       "      <th>gross</th>\n",
       "      <th>genres</th>\n",
       "      <th>...</th>\n",
       "      <th>num_user_for_reviews</th>\n",
       "      <th>language</th>\n",
       "      <th>country</th>\n",
       "      <th>content_rating</th>\n",
       "      <th>budget</th>\n",
       "      <th>title_year</th>\n",
       "      <th>actor_2_facebook_likes</th>\n",
       "      <th>imdb_score</th>\n",
       "      <th>aspect_ratio</th>\n",
       "      <th>movie_facebook_likes</th>\n",
       "    </tr>\n",
       "    <tr>\n",
       "      <th>movie_title</th>\n",
       "      <th></th>\n",
       "      <th></th>\n",
       "      <th></th>\n",
       "      <th></th>\n",
       "      <th></th>\n",
       "      <th></th>\n",
       "      <th></th>\n",
       "      <th></th>\n",
       "      <th></th>\n",
       "      <th></th>\n",
       "      <th></th>\n",
       "      <th></th>\n",
       "      <th></th>\n",
       "      <th></th>\n",
       "      <th></th>\n",
       "      <th></th>\n",
       "      <th></th>\n",
       "      <th></th>\n",
       "      <th></th>\n",
       "      <th></th>\n",
       "      <th></th>\n",
       "    </tr>\n",
       "  </thead>\n",
       "  <tbody>\n",
       "    <tr>\n",
       "      <th>The True Story of Puss'N Boots</th>\n",
       "      <td>Color</td>\n",
       "      <td>Jérôme Deschamps</td>\n",
       "      <td>4.0</td>\n",
       "      <td>80.0</td>\n",
       "      <td>0.0</td>\n",
       "      <td>0.0</td>\n",
       "      <td>André Wilms</td>\n",
       "      <td>44.0</td>\n",
       "      <td>NaN</td>\n",
       "      <td>Adventure|Animation|Comedy</td>\n",
       "      <td>...</td>\n",
       "      <td>24.0</td>\n",
       "      <td>English</td>\n",
       "      <td>France</td>\n",
       "      <td>G</td>\n",
       "      <td>25000000.0</td>\n",
       "      <td>2009.0</td>\n",
       "      <td>9.0</td>\n",
       "      <td>2.9</td>\n",
       "      <td>NaN</td>\n",
       "      <td>90</td>\n",
       "    </tr>\n",
       "    <tr>\n",
       "      <th>Doogal</th>\n",
       "      <td>Color</td>\n",
       "      <td>Dave Borthwick</td>\n",
       "      <td>31.0</td>\n",
       "      <td>77.0</td>\n",
       "      <td>3.0</td>\n",
       "      <td>593.0</td>\n",
       "      <td>Kylie Minogue</td>\n",
       "      <td>787.0</td>\n",
       "      <td>7382993.0</td>\n",
       "      <td>Adventure|Animation|Comedy|Family|Fantasy</td>\n",
       "      <td>...</td>\n",
       "      <td>114.0</td>\n",
       "      <td>English</td>\n",
       "      <td>USA</td>\n",
       "      <td>G</td>\n",
       "      <td>20000000.0</td>\n",
       "      <td>2006.0</td>\n",
       "      <td>690.0</td>\n",
       "      <td>2.8</td>\n",
       "      <td>1.85</td>\n",
       "      <td>346</td>\n",
       "    </tr>\n",
       "    <tr>\n",
       "      <th>Thomas and the Magic Railroad</th>\n",
       "      <td>Color</td>\n",
       "      <td>Britt Allcroft</td>\n",
       "      <td>47.0</td>\n",
       "      <td>85.0</td>\n",
       "      <td>2.0</td>\n",
       "      <td>402.0</td>\n",
       "      <td>Colm Feore</td>\n",
       "      <td>1000.0</td>\n",
       "      <td>15911333.0</td>\n",
       "      <td>Adventure|Comedy|Drama|Family|Fantasy</td>\n",
       "      <td>...</td>\n",
       "      <td>119.0</td>\n",
       "      <td>English</td>\n",
       "      <td>UK</td>\n",
       "      <td>G</td>\n",
       "      <td>19000000.0</td>\n",
       "      <td>2000.0</td>\n",
       "      <td>539.0</td>\n",
       "      <td>3.6</td>\n",
       "      <td>1.85</td>\n",
       "      <td>663</td>\n",
       "    </tr>\n",
       "    <tr>\n",
       "      <th>Barney's Great Adventure</th>\n",
       "      <td>Color</td>\n",
       "      <td>Steve Gomer</td>\n",
       "      <td>24.0</td>\n",
       "      <td>76.0</td>\n",
       "      <td>9.0</td>\n",
       "      <td>47.0</td>\n",
       "      <td>Kyla Pratt</td>\n",
       "      <td>595.0</td>\n",
       "      <td>11144518.0</td>\n",
       "      <td>Adventure|Family</td>\n",
       "      <td>...</td>\n",
       "      <td>53.0</td>\n",
       "      <td>English</td>\n",
       "      <td>Canada</td>\n",
       "      <td>G</td>\n",
       "      <td>15000000.0</td>\n",
       "      <td>1998.0</td>\n",
       "      <td>417.0</td>\n",
       "      <td>2.8</td>\n",
       "      <td>1.85</td>\n",
       "      <td>436</td>\n",
       "    </tr>\n",
       "    <tr>\n",
       "      <th>Justin Bieber: Never Say Never</th>\n",
       "      <td>Color</td>\n",
       "      <td>Jon M. Chu</td>\n",
       "      <td>84.0</td>\n",
       "      <td>115.0</td>\n",
       "      <td>209.0</td>\n",
       "      <td>41.0</td>\n",
       "      <td>Sean Kingston</td>\n",
       "      <td>569.0</td>\n",
       "      <td>73000942.0</td>\n",
       "      <td>Documentary|Music</td>\n",
       "      <td>...</td>\n",
       "      <td>233.0</td>\n",
       "      <td>English</td>\n",
       "      <td>USA</td>\n",
       "      <td>G</td>\n",
       "      <td>13000000.0</td>\n",
       "      <td>2011.0</td>\n",
       "      <td>69.0</td>\n",
       "      <td>1.6</td>\n",
       "      <td>1.85</td>\n",
       "      <td>62000</td>\n",
       "    </tr>\n",
       "  </tbody>\n",
       "</table>\n",
       "<p>5 rows × 27 columns</p>\n",
       "</div>"
      ],
      "text/plain": [
       "                                color     director_name  \\\n",
       "movie_title                                               \n",
       "The True Story of Puss'N Boots  Color  Jérôme Deschamps   \n",
       "Doogal                          Color    Dave Borthwick   \n",
       "Thomas and the Magic Railroad   Color    Britt Allcroft   \n",
       "Barney's Great Adventure        Color       Steve Gomer   \n",
       "Justin Bieber: Never Say Never  Color        Jon M. Chu   \n",
       "\n",
       "                                num_critic_for_reviews  duration  \\\n",
       "movie_title                                                        \n",
       "The True Story of Puss'N Boots                     4.0      80.0   \n",
       "Doogal                                            31.0      77.0   \n",
       "Thomas and the Magic Railroad                     47.0      85.0   \n",
       "Barney's Great Adventure                          24.0      76.0   \n",
       "Justin Bieber: Never Say Never                    84.0     115.0   \n",
       "\n",
       "                                director_facebook_likes  \\\n",
       "movie_title                                               \n",
       "The True Story of Puss'N Boots                      0.0   \n",
       "Doogal                                              3.0   \n",
       "Thomas and the Magic Railroad                       2.0   \n",
       "Barney's Great Adventure                            9.0   \n",
       "Justin Bieber: Never Say Never                    209.0   \n",
       "\n",
       "                                actor_3_facebook_likes   actor_2_name  \\\n",
       "movie_title                                                             \n",
       "The True Story of Puss'N Boots                     0.0    André Wilms   \n",
       "Doogal                                           593.0  Kylie Minogue   \n",
       "Thomas and the Magic Railroad                    402.0     Colm Feore   \n",
       "Barney's Great Adventure                          47.0     Kyla Pratt   \n",
       "Justin Bieber: Never Say Never                    41.0  Sean Kingston   \n",
       "\n",
       "                                actor_1_facebook_likes       gross  \\\n",
       "movie_title                                                          \n",
       "The True Story of Puss'N Boots                    44.0         NaN   \n",
       "Doogal                                           787.0   7382993.0   \n",
       "Thomas and the Magic Railroad                   1000.0  15911333.0   \n",
       "Barney's Great Adventure                         595.0  11144518.0   \n",
       "Justin Bieber: Never Say Never                   569.0  73000942.0   \n",
       "\n",
       "                                                                   genres  \\\n",
       "movie_title                                                                 \n",
       "The True Story of Puss'N Boots                 Adventure|Animation|Comedy   \n",
       "Doogal                          Adventure|Animation|Comedy|Family|Fantasy   \n",
       "Thomas and the Magic Railroad       Adventure|Comedy|Drama|Family|Fantasy   \n",
       "Barney's Great Adventure                                 Adventure|Family   \n",
       "Justin Bieber: Never Say Never                          Documentary|Music   \n",
       "\n",
       "                                       ...          num_user_for_reviews  \\\n",
       "movie_title                            ...                                 \n",
       "The True Story of Puss'N Boots         ...                          24.0   \n",
       "Doogal                                 ...                         114.0   \n",
       "Thomas and the Magic Railroad          ...                         119.0   \n",
       "Barney's Great Adventure               ...                          53.0   \n",
       "Justin Bieber: Never Say Never         ...                         233.0   \n",
       "\n",
       "                                language  country content_rating      budget  \\\n",
       "movie_title                                                                    \n",
       "The True Story of Puss'N Boots   English   France              G  25000000.0   \n",
       "Doogal                           English      USA              G  20000000.0   \n",
       "Thomas and the Magic Railroad    English       UK              G  19000000.0   \n",
       "Barney's Great Adventure         English   Canada              G  15000000.0   \n",
       "Justin Bieber: Never Say Never   English      USA              G  13000000.0   \n",
       "\n",
       "                               title_year actor_2_facebook_likes  imdb_score  \\\n",
       "movie_title                                                                    \n",
       "The True Story of Puss'N Boots     2009.0                    9.0         2.9   \n",
       "Doogal                             2006.0                  690.0         2.8   \n",
       "Thomas and the Magic Railroad      2000.0                  539.0         3.6   \n",
       "Barney's Great Adventure           1998.0                  417.0         2.8   \n",
       "Justin Bieber: Never Say Never     2011.0                   69.0         1.6   \n",
       "\n",
       "                               aspect_ratio movie_facebook_likes  \n",
       "movie_title                                                       \n",
       "The True Story of Puss'N Boots          NaN                   90  \n",
       "Doogal                                 1.85                  346  \n",
       "Thomas and the Magic Railroad          1.85                  663  \n",
       "Barney's Great Adventure               1.85                  436  \n",
       "Justin Bieber: Never Say Never         1.85                62000  \n",
       "\n",
       "[5 rows x 27 columns]"
      ]
     },
     "execution_count": 90,
     "metadata": {},
     "output_type": "execute_result"
    }
   ],
   "source": [
    "movie_loc.head()"
   ]
  },
  {
   "cell_type": "code",
   "execution_count": 91,
   "metadata": {},
   "outputs": [
    {
     "data": {
      "text/plain": [
       "True"
      ]
     },
     "execution_count": 91,
     "metadata": {},
     "output_type": "execute_result"
    }
   ],
   "source": [
    "#  check whether this DataFrame is exactly equal to the one generated directly from the indexing operator\n",
    "movie_loc.equals(movie[criteria])"
   ]
  },
  {
   "cell_type": "code",
   "execution_count": 92,
   "metadata": {},
   "outputs": [],
   "source": [
    "# we cannot directly use a Series of booleans because of the index.\n",
    "# We can, however, use an ndarray of booleans. To extract the array, use the values attribute\n",
    "movie_iloc = movie.iloc[criteria.values]"
   ]
  },
  {
   "cell_type": "code",
   "execution_count": 93,
   "metadata": {},
   "outputs": [
    {
     "data": {
      "text/plain": [
       "True"
      ]
     },
     "execution_count": 93,
     "metadata": {},
     "output_type": "execute_result"
    }
   ],
   "source": [
    "movie_iloc.equals(movie_loc)"
   ]
  },
  {
   "cell_type": "code",
   "execution_count": 94,
   "metadata": {},
   "outputs": [],
   "source": [
    "# it is possible to do boolean indexing to select particular columns. \n",
    "#Here, we select all the columns that have a data type of 64-bit integers\n",
    "criteria_col = movie.dtypes == np.int64"
   ]
  },
  {
   "cell_type": "code",
   "execution_count": 95,
   "metadata": {},
   "outputs": [
    {
     "data": {
      "text/plain": [
       "color                      False\n",
       "director_name              False\n",
       "num_critic_for_reviews     False\n",
       "duration                   False\n",
       "director_facebook_likes    False\n",
       "dtype: bool"
      ]
     },
     "execution_count": 95,
     "metadata": {},
     "output_type": "execute_result"
    }
   ],
   "source": [
    "criteria_col.head()"
   ]
  },
  {
   "cell_type": "code",
   "execution_count": 96,
   "metadata": {},
   "outputs": [
    {
     "data": {
      "text/html": [
       "<div>\n",
       "<style scoped>\n",
       "    .dataframe tbody tr th:only-of-type {\n",
       "        vertical-align: middle;\n",
       "    }\n",
       "\n",
       "    .dataframe tbody tr th {\n",
       "        vertical-align: top;\n",
       "    }\n",
       "\n",
       "    .dataframe thead th {\n",
       "        text-align: right;\n",
       "    }\n",
       "</style>\n",
       "<table border=\"1\" class=\"dataframe\">\n",
       "  <thead>\n",
       "    <tr style=\"text-align: right;\">\n",
       "      <th></th>\n",
       "      <th>num_voted_users</th>\n",
       "      <th>cast_total_facebook_likes</th>\n",
       "      <th>movie_facebook_likes</th>\n",
       "    </tr>\n",
       "    <tr>\n",
       "      <th>movie_title</th>\n",
       "      <th></th>\n",
       "      <th></th>\n",
       "      <th></th>\n",
       "    </tr>\n",
       "  </thead>\n",
       "  <tbody>\n",
       "    <tr>\n",
       "      <th>Avatar</th>\n",
       "      <td>886204</td>\n",
       "      <td>4834</td>\n",
       "      <td>33000</td>\n",
       "    </tr>\n",
       "    <tr>\n",
       "      <th>Pirates of the Caribbean: At World's End</th>\n",
       "      <td>471220</td>\n",
       "      <td>48350</td>\n",
       "      <td>0</td>\n",
       "    </tr>\n",
       "    <tr>\n",
       "      <th>Spectre</th>\n",
       "      <td>275868</td>\n",
       "      <td>11700</td>\n",
       "      <td>85000</td>\n",
       "    </tr>\n",
       "    <tr>\n",
       "      <th>The Dark Knight Rises</th>\n",
       "      <td>1144337</td>\n",
       "      <td>106759</td>\n",
       "      <td>164000</td>\n",
       "    </tr>\n",
       "    <tr>\n",
       "      <th>Star Wars: Episode VII - The Force Awakens</th>\n",
       "      <td>8</td>\n",
       "      <td>143</td>\n",
       "      <td>0</td>\n",
       "    </tr>\n",
       "  </tbody>\n",
       "</table>\n",
       "</div>"
      ],
      "text/plain": [
       "                                            num_voted_users  \\\n",
       "movie_title                                                   \n",
       "Avatar                                               886204   \n",
       "Pirates of the Caribbean: At World's End             471220   \n",
       "Spectre                                              275868   \n",
       "The Dark Knight Rises                               1144337   \n",
       "Star Wars: Episode VII - The Force Awakens                8   \n",
       "\n",
       "                                            cast_total_facebook_likes  \\\n",
       "movie_title                                                             \n",
       "Avatar                                                           4834   \n",
       "Pirates of the Caribbean: At World's End                        48350   \n",
       "Spectre                                                         11700   \n",
       "The Dark Knight Rises                                          106759   \n",
       "Star Wars: Episode VII - The Force Awakens                        143   \n",
       "\n",
       "                                            movie_facebook_likes  \n",
       "movie_title                                                       \n",
       "Avatar                                                     33000  \n",
       "Pirates of the Caribbean: At World's End                       0  \n",
       "Spectre                                                    85000  \n",
       "The Dark Knight Rises                                     164000  \n",
       "Star Wars: Episode VII - The Force Awakens                     0  "
      ]
     },
     "execution_count": 96,
     "metadata": {},
     "output_type": "execute_result"
    }
   ],
   "source": [
    "movie.loc[:, criteria_col].head()"
   ]
  },
  {
   "cell_type": "code",
   "execution_count": 97,
   "metadata": {},
   "outputs": [
    {
     "data": {
      "text/html": [
       "<div>\n",
       "<style scoped>\n",
       "    .dataframe tbody tr th:only-of-type {\n",
       "        vertical-align: middle;\n",
       "    }\n",
       "\n",
       "    .dataframe tbody tr th {\n",
       "        vertical-align: top;\n",
       "    }\n",
       "\n",
       "    .dataframe thead th {\n",
       "        text-align: right;\n",
       "    }\n",
       "</style>\n",
       "<table border=\"1\" class=\"dataframe\">\n",
       "  <thead>\n",
       "    <tr style=\"text-align: right;\">\n",
       "      <th></th>\n",
       "      <th>num_voted_users</th>\n",
       "      <th>cast_total_facebook_likes</th>\n",
       "      <th>movie_facebook_likes</th>\n",
       "    </tr>\n",
       "    <tr>\n",
       "      <th>movie_title</th>\n",
       "      <th></th>\n",
       "      <th></th>\n",
       "      <th></th>\n",
       "    </tr>\n",
       "  </thead>\n",
       "  <tbody>\n",
       "    <tr>\n",
       "      <th>Avatar</th>\n",
       "      <td>886204</td>\n",
       "      <td>4834</td>\n",
       "      <td>33000</td>\n",
       "    </tr>\n",
       "    <tr>\n",
       "      <th>Pirates of the Caribbean: At World's End</th>\n",
       "      <td>471220</td>\n",
       "      <td>48350</td>\n",
       "      <td>0</td>\n",
       "    </tr>\n",
       "    <tr>\n",
       "      <th>Spectre</th>\n",
       "      <td>275868</td>\n",
       "      <td>11700</td>\n",
       "      <td>85000</td>\n",
       "    </tr>\n",
       "    <tr>\n",
       "      <th>The Dark Knight Rises</th>\n",
       "      <td>1144337</td>\n",
       "      <td>106759</td>\n",
       "      <td>164000</td>\n",
       "    </tr>\n",
       "    <tr>\n",
       "      <th>Star Wars: Episode VII - The Force Awakens</th>\n",
       "      <td>8</td>\n",
       "      <td>143</td>\n",
       "      <td>0</td>\n",
       "    </tr>\n",
       "  </tbody>\n",
       "</table>\n",
       "</div>"
      ],
      "text/plain": [
       "                                            num_voted_users  \\\n",
       "movie_title                                                   \n",
       "Avatar                                               886204   \n",
       "Pirates of the Caribbean: At World's End             471220   \n",
       "Spectre                                              275868   \n",
       "The Dark Knight Rises                               1144337   \n",
       "Star Wars: Episode VII - The Force Awakens                8   \n",
       "\n",
       "                                            cast_total_facebook_likes  \\\n",
       "movie_title                                                             \n",
       "Avatar                                                           4834   \n",
       "Pirates of the Caribbean: At World's End                        48350   \n",
       "Spectre                                                         11700   \n",
       "The Dark Knight Rises                                          106759   \n",
       "Star Wars: Episode VII - The Force Awakens                        143   \n",
       "\n",
       "                                            movie_facebook_likes  \n",
       "movie_title                                                       \n",
       "Avatar                                                     33000  \n",
       "Pirates of the Caribbean: At World's End                       0  \n",
       "Spectre                                                    85000  \n",
       "The Dark Knight Rises                                     164000  \n",
       "Star Wars: Episode VII - The Force Awakens                     0  "
      ]
     },
     "execution_count": 97,
     "metadata": {},
     "output_type": "execute_result"
    }
   ],
   "source": [
    "movie.iloc[:, criteria_col.values].head()"
   ]
  },
  {
   "cell_type": "code",
   "execution_count": 98,
   "metadata": {},
   "outputs": [],
   "source": [
    "# A boolean Series may be used to select rows and then simultaneously select columns with either integers or labels.\n",
    "cols = ['content_rating', 'imdb_score', 'title_year', 'gross']"
   ]
  },
  {
   "cell_type": "code",
   "execution_count": 99,
   "metadata": {},
   "outputs": [
    {
     "data": {
      "text/html": [
       "<div>\n",
       "<style scoped>\n",
       "    .dataframe tbody tr th:only-of-type {\n",
       "        vertical-align: middle;\n",
       "    }\n",
       "\n",
       "    .dataframe tbody tr th {\n",
       "        vertical-align: top;\n",
       "    }\n",
       "\n",
       "    .dataframe thead th {\n",
       "        text-align: right;\n",
       "    }\n",
       "</style>\n",
       "<table border=\"1\" class=\"dataframe\">\n",
       "  <thead>\n",
       "    <tr style=\"text-align: right;\">\n",
       "      <th></th>\n",
       "      <th>content_rating</th>\n",
       "      <th>imdb_score</th>\n",
       "      <th>title_year</th>\n",
       "      <th>gross</th>\n",
       "    </tr>\n",
       "    <tr>\n",
       "      <th>movie_title</th>\n",
       "      <th></th>\n",
       "      <th></th>\n",
       "      <th></th>\n",
       "      <th></th>\n",
       "    </tr>\n",
       "  </thead>\n",
       "  <tbody>\n",
       "    <tr>\n",
       "      <th>Justin Bieber: Never Say Never</th>\n",
       "      <td>G</td>\n",
       "      <td>1.6</td>\n",
       "      <td>2011.0</td>\n",
       "      <td>73000942.0</td>\n",
       "    </tr>\n",
       "    <tr>\n",
       "      <th>Sunday School Musical</th>\n",
       "      <td>G</td>\n",
       "      <td>2.5</td>\n",
       "      <td>2008.0</td>\n",
       "      <td>NaN</td>\n",
       "    </tr>\n",
       "    <tr>\n",
       "      <th>Doogal</th>\n",
       "      <td>G</td>\n",
       "      <td>2.8</td>\n",
       "      <td>2006.0</td>\n",
       "      <td>7382993.0</td>\n",
       "    </tr>\n",
       "    <tr>\n",
       "      <th>Barney's Great Adventure</th>\n",
       "      <td>G</td>\n",
       "      <td>2.8</td>\n",
       "      <td>1998.0</td>\n",
       "      <td>11144518.0</td>\n",
       "    </tr>\n",
       "    <tr>\n",
       "      <th>The True Story of Puss'N Boots</th>\n",
       "      <td>G</td>\n",
       "      <td>2.9</td>\n",
       "      <td>2009.0</td>\n",
       "      <td>NaN</td>\n",
       "    </tr>\n",
       "    <tr>\n",
       "      <th>Thomas and the Magic Railroad</th>\n",
       "      <td>G</td>\n",
       "      <td>3.6</td>\n",
       "      <td>2000.0</td>\n",
       "      <td>15911333.0</td>\n",
       "    </tr>\n",
       "  </tbody>\n",
       "</table>\n",
       "</div>"
      ],
      "text/plain": [
       "                               content_rating  imdb_score  title_year  \\\n",
       "movie_title                                                             \n",
       "Justin Bieber: Never Say Never              G         1.6      2011.0   \n",
       "Sunday School Musical                       G         2.5      2008.0   \n",
       "Doogal                                      G         2.8      2006.0   \n",
       "Barney's Great Adventure                    G         2.8      1998.0   \n",
       "The True Story of Puss'N Boots              G         2.9      2009.0   \n",
       "Thomas and the Magic Railroad               G         3.6      2000.0   \n",
       "\n",
       "                                     gross  \n",
       "movie_title                                 \n",
       "Justin Bieber: Never Say Never  73000942.0  \n",
       "Sunday School Musical                  NaN  \n",
       "Doogal                           7382993.0  \n",
       "Barney's Great Adventure        11144518.0  \n",
       "The True Story of Puss'N Boots         NaN  \n",
       "Thomas and the Magic Railroad   15911333.0  "
      ]
     },
     "execution_count": 99,
     "metadata": {},
     "output_type": "execute_result"
    }
   ],
   "source": [
    "movie.loc[criteria, cols].sort_values('imdb_score')"
   ]
  },
  {
   "cell_type": "code",
   "execution_count": 100,
   "metadata": {},
   "outputs": [],
   "source": [
    "# This same operation may be replicated with .iloc, but you need to get the integer location of all the columns\n",
    "col_index = [movie.columns.get_loc(col) for col in cols]"
   ]
  },
  {
   "cell_type": "code",
   "execution_count": 101,
   "metadata": {},
   "outputs": [
    {
     "data": {
      "text/plain": [
       "[20, 24, 22, 8]"
      ]
     },
     "execution_count": 101,
     "metadata": {},
     "output_type": "execute_result"
    }
   ],
   "source": [
    "col_index"
   ]
  },
  {
   "cell_type": "code",
   "execution_count": 102,
   "metadata": {},
   "outputs": [
    {
     "data": {
      "text/html": [
       "<div>\n",
       "<style scoped>\n",
       "    .dataframe tbody tr th:only-of-type {\n",
       "        vertical-align: middle;\n",
       "    }\n",
       "\n",
       "    .dataframe tbody tr th {\n",
       "        vertical-align: top;\n",
       "    }\n",
       "\n",
       "    .dataframe thead th {\n",
       "        text-align: right;\n",
       "    }\n",
       "</style>\n",
       "<table border=\"1\" class=\"dataframe\">\n",
       "  <thead>\n",
       "    <tr style=\"text-align: right;\">\n",
       "      <th></th>\n",
       "      <th>content_rating</th>\n",
       "      <th>imdb_score</th>\n",
       "      <th>title_year</th>\n",
       "      <th>gross</th>\n",
       "    </tr>\n",
       "    <tr>\n",
       "      <th>movie_title</th>\n",
       "      <th></th>\n",
       "      <th></th>\n",
       "      <th></th>\n",
       "      <th></th>\n",
       "    </tr>\n",
       "  </thead>\n",
       "  <tbody>\n",
       "    <tr>\n",
       "      <th>The True Story of Puss'N Boots</th>\n",
       "      <td>G</td>\n",
       "      <td>2.9</td>\n",
       "      <td>2009.0</td>\n",
       "      <td>NaN</td>\n",
       "    </tr>\n",
       "    <tr>\n",
       "      <th>Doogal</th>\n",
       "      <td>G</td>\n",
       "      <td>2.8</td>\n",
       "      <td>2006.0</td>\n",
       "      <td>7382993.0</td>\n",
       "    </tr>\n",
       "    <tr>\n",
       "      <th>Thomas and the Magic Railroad</th>\n",
       "      <td>G</td>\n",
       "      <td>3.6</td>\n",
       "      <td>2000.0</td>\n",
       "      <td>15911333.0</td>\n",
       "    </tr>\n",
       "    <tr>\n",
       "      <th>Barney's Great Adventure</th>\n",
       "      <td>G</td>\n",
       "      <td>2.8</td>\n",
       "      <td>1998.0</td>\n",
       "      <td>11144518.0</td>\n",
       "    </tr>\n",
       "    <tr>\n",
       "      <th>Justin Bieber: Never Say Never</th>\n",
       "      <td>G</td>\n",
       "      <td>1.6</td>\n",
       "      <td>2011.0</td>\n",
       "      <td>73000942.0</td>\n",
       "    </tr>\n",
       "    <tr>\n",
       "      <th>Sunday School Musical</th>\n",
       "      <td>G</td>\n",
       "      <td>2.5</td>\n",
       "      <td>2008.0</td>\n",
       "      <td>NaN</td>\n",
       "    </tr>\n",
       "  </tbody>\n",
       "</table>\n",
       "</div>"
      ],
      "text/plain": [
       "                               content_rating  imdb_score  title_year  \\\n",
       "movie_title                                                             \n",
       "The True Story of Puss'N Boots              G         2.9      2009.0   \n",
       "Doogal                                      G         2.8      2006.0   \n",
       "Thomas and the Magic Railroad               G         3.6      2000.0   \n",
       "Barney's Great Adventure                    G         2.8      1998.0   \n",
       "Justin Bieber: Never Say Never              G         1.6      2011.0   \n",
       "Sunday School Musical                       G         2.5      2008.0   \n",
       "\n",
       "                                     gross  \n",
       "movie_title                                 \n",
       "The True Story of Puss'N Boots         NaN  \n",
       "Doogal                           7382993.0  \n",
       "Thomas and the Magic Railroad   15911333.0  \n",
       "Barney's Great Adventure        11144518.0  \n",
       "Justin Bieber: Never Say Never  73000942.0  \n",
       "Sunday School Musical                  NaN  "
      ]
     },
     "execution_count": 102,
     "metadata": {},
     "output_type": "execute_result"
    }
   ],
   "source": [
    "movie.iloc[criteria.values, col_index]"
   ]
  },
  {
   "cell_type": "code",
   "execution_count": null,
   "metadata": {},
   "outputs": [],
   "source": []
  }
 ],
 "metadata": {
  "kernelspec": {
   "display_name": "Python [conda env:deliverable1]",
   "language": "python",
   "name": "conda-env-deliverable1-py"
  },
  "language_info": {
   "codemirror_mode": {
    "name": "ipython",
    "version": 3
   },
   "file_extension": ".py",
   "mimetype": "text/x-python",
   "name": "python",
   "nbconvert_exporter": "python",
   "pygments_lexer": "ipython3",
   "version": "3.5.6"
  }
 },
 "nbformat": 4,
 "nbformat_minor": 2
}
